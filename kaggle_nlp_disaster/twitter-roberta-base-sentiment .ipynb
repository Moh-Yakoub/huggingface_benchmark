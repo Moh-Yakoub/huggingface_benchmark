{
 "cells": [
  {
   "cell_type": "code",
   "execution_count": 54,
   "id": "scientific-crest",
   "metadata": {},
   "outputs": [],
   "source": [
    "from transformers import AutoModelForSequenceClassification\n",
    "from transformers import TFAutoModelForSequenceClassification\n",
    "from transformers import AutoTokenizer\n",
    "from scipy.special import softmax\n",
    "import csv\n",
    "import urllib.request\n"
   ]
  },
  {
   "cell_type": "code",
   "execution_count": 55,
   "id": "amber-recipe",
   "metadata": {},
   "outputs": [],
   "source": [
    "# Preprocess text (username and link placeholders)\n",
    "def preprocess(text):\n",
    "    new_text = []\n",
    "\n",
    "\n",
    "    for t in text.split(\" \"):\n",
    "        t = '@user' if t.startswith('@') and len(t) > 1 else t\n",
    "        t = 'http' if t.startswith('http') else t\n",
    "        new_text.append(t)\n",
    "    return \" \".join(new_text)"
   ]
  },
  {
   "cell_type": "code",
   "execution_count": 56,
   "id": "younger-stick",
   "metadata": {},
   "outputs": [],
   "source": [
    "# Tasks:\n",
    "# emoji, emotion, hate, irony, offensive, sentiment\n",
    "# stance/abortion, stance/atheism, stance/climate, stance/feminist, stance/hillary\n",
    "\n",
    "task='sentiment'\n",
    "MODEL = f\"cardiffnlp/twitter-roberta-base-{task}\"\n",
    "\n",
    "tokenizer = AutoTokenizer.from_pretrained(MODEL)\n",
    "\n",
    "# download label mapping\n",
    "labels=[]\n",
    "mapping_link = f\"https://raw.githubusercontent.com/cardiffnlp/tweeteval/main/datasets/{task}/mapping.txt\"\n",
    "with urllib.request.urlopen(mapping_link) as f:\n",
    "    html = f.read().decode('utf-8').split(\"\\n\")\n",
    "    csvreader = csv.reader(html, delimiter='\\t')\n",
    "labels = [row[1] for row in csvreader if len(row) > 1]\n",
    "\n",
    "# PT\n",
    "model = AutoModelForSequenceClassification.from_pretrained(MODEL)\n",
    "model.save_pretrained(MODEL)\n"
   ]
  },
  {
   "cell_type": "code",
   "execution_count": 57,
   "id": "equal-thread",
   "metadata": {},
   "outputs": [],
   "source": [
    "def negative_score(text):\n",
    "    text = preprocess(text)\n",
    "    encoded_input = tokenizer(text, return_tensors='pt')\n",
    "    output = model(**encoded_input)\n",
    "    scores = output[0][0].detach().numpy()\n",
    "    scores = softmax(scores)\n",
    "    return scores[2]"
   ]
  },
  {
   "cell_type": "code",
   "execution_count": 35,
   "id": "residential-subscription",
   "metadata": {},
   "outputs": [],
   "source": [
    "import pandas as pd"
   ]
  },
  {
   "cell_type": "code",
   "execution_count": 36,
   "id": "toxic-bennett",
   "metadata": {},
   "outputs": [],
   "source": [
    "train_dataset = pd.read_csv('./train.csv')\n",
    "test_dataset = pd.read_csv('./test.csv')"
   ]
  },
  {
   "cell_type": "code",
   "execution_count": 37,
   "id": "tracked-certification",
   "metadata": {},
   "outputs": [
    {
     "data": {
      "text/html": [
       "<div>\n",
       "<style scoped>\n",
       "    .dataframe tbody tr th:only-of-type {\n",
       "        vertical-align: middle;\n",
       "    }\n",
       "\n",
       "    .dataframe tbody tr th {\n",
       "        vertical-align: top;\n",
       "    }\n",
       "\n",
       "    .dataframe thead th {\n",
       "        text-align: right;\n",
       "    }\n",
       "</style>\n",
       "<table border=\"1\" class=\"dataframe\">\n",
       "  <thead>\n",
       "    <tr style=\"text-align: right;\">\n",
       "      <th></th>\n",
       "      <th>id</th>\n",
       "      <th>keyword</th>\n",
       "      <th>location</th>\n",
       "      <th>text</th>\n",
       "      <th>target</th>\n",
       "    </tr>\n",
       "  </thead>\n",
       "  <tbody>\n",
       "    <tr>\n",
       "      <th>0</th>\n",
       "      <td>1</td>\n",
       "      <td>NaN</td>\n",
       "      <td>NaN</td>\n",
       "      <td>Our Deeds are the Reason of this #earthquake M...</td>\n",
       "      <td>1</td>\n",
       "    </tr>\n",
       "    <tr>\n",
       "      <th>1</th>\n",
       "      <td>4</td>\n",
       "      <td>NaN</td>\n",
       "      <td>NaN</td>\n",
       "      <td>Forest fire near La Ronge Sask. Canada</td>\n",
       "      <td>1</td>\n",
       "    </tr>\n",
       "    <tr>\n",
       "      <th>2</th>\n",
       "      <td>5</td>\n",
       "      <td>NaN</td>\n",
       "      <td>NaN</td>\n",
       "      <td>All residents asked to 'shelter in place' are ...</td>\n",
       "      <td>1</td>\n",
       "    </tr>\n",
       "    <tr>\n",
       "      <th>3</th>\n",
       "      <td>6</td>\n",
       "      <td>NaN</td>\n",
       "      <td>NaN</td>\n",
       "      <td>13,000 people receive #wildfires evacuation or...</td>\n",
       "      <td>1</td>\n",
       "    </tr>\n",
       "    <tr>\n",
       "      <th>4</th>\n",
       "      <td>7</td>\n",
       "      <td>NaN</td>\n",
       "      <td>NaN</td>\n",
       "      <td>Just got sent this photo from Ruby #Alaska as ...</td>\n",
       "      <td>1</td>\n",
       "    </tr>\n",
       "  </tbody>\n",
       "</table>\n",
       "</div>"
      ],
      "text/plain": [
       "   id keyword location                                               text  \\\n",
       "0   1     NaN      NaN  Our Deeds are the Reason of this #earthquake M...   \n",
       "1   4     NaN      NaN             Forest fire near La Ronge Sask. Canada   \n",
       "2   5     NaN      NaN  All residents asked to 'shelter in place' are ...   \n",
       "3   6     NaN      NaN  13,000 people receive #wildfires evacuation or...   \n",
       "4   7     NaN      NaN  Just got sent this photo from Ruby #Alaska as ...   \n",
       "\n",
       "   target  \n",
       "0       1  \n",
       "1       1  \n",
       "2       1  \n",
       "3       1  \n",
       "4       1  "
      ]
     },
     "execution_count": 37,
     "metadata": {},
     "output_type": "execute_result"
    }
   ],
   "source": [
    "train_dataset.head()"
   ]
  },
  {
   "cell_type": "code",
   "execution_count": 38,
   "id": "respected-traveler",
   "metadata": {},
   "outputs": [
    {
     "data": {
      "text/plain": [
       "0"
      ]
     },
     "execution_count": 38,
     "metadata": {},
     "output_type": "execute_result"
    }
   ],
   "source": [
    "train_dataset['text'].isnull().sum()"
   ]
  },
  {
   "cell_type": "code",
   "execution_count": 39,
   "id": "junior-patient",
   "metadata": {},
   "outputs": [],
   "source": [
    "negativity_score = train_dataset['text'].apply(negative_score)"
   ]
  },
  {
   "cell_type": "code",
   "execution_count": 44,
   "id": "portuguese-bearing",
   "metadata": {},
   "outputs": [],
   "source": [
    "from sklearn.model_selection import train_test_split\n",
    "import xgboost as xgb\n",
    "from sklearn.metrics import accuracy_score\n",
    "import numpy as np"
   ]
  },
  {
   "cell_type": "code",
   "execution_count": 48,
   "id": "standing-feature",
   "metadata": {},
   "outputs": [
    {
     "name": "stdout",
     "output_type": "stream",
     "text": [
      "((7613, 1), (7613, 1))\n"
     ]
    }
   ],
   "source": [
    "X = np.vstack(negativity_score)\n",
    "Y = np.vstack(train_dataset['target'])\n",
    "train_X, test_X, train_Y, test_Y = train_test_split(X, Y, test_size=0.1, stratify=Y, random_state=0)\n",
    "print((X.shape, Y.shape))"
   ]
  },
  {
   "cell_type": "code",
   "execution_count": 60,
   "id": "polar-ukraine",
   "metadata": {},
   "outputs": [
    {
     "name": "stdout",
     "output_type": "stream",
     "text": [
      "[0]\tvalidation_0-error:0.35630\tvalidation_0-logloss:0.69190\tvalidation_1-error:0.35958\tvalidation_1-logloss:0.69197\n",
      "[1]\tvalidation_0-error:0.35630\tvalidation_0-logloss:0.69071\tvalidation_1-error:0.35958\tvalidation_1-logloss:0.69084\n",
      "[2]\tvalidation_0-error:0.35644\tvalidation_0-logloss:0.68951\tvalidation_1-error:0.36220\tvalidation_1-logloss:0.68975\n",
      "[3]\tvalidation_0-error:0.35644\tvalidation_0-logloss:0.68833\tvalidation_1-error:0.36220\tvalidation_1-logloss:0.68862\n",
      "[4]\tvalidation_0-error:0.35644\tvalidation_0-logloss:0.68719\tvalidation_1-error:0.36220\tvalidation_1-logloss:0.68755\n",
      "[5]\tvalidation_0-error:0.35644\tvalidation_0-logloss:0.68606\tvalidation_1-error:0.36220\tvalidation_1-logloss:0.68647\n",
      "[6]\tvalidation_0-error:0.35644\tvalidation_0-logloss:0.68496\tvalidation_1-error:0.36089\tvalidation_1-logloss:0.68542\n",
      "[7]\tvalidation_0-error:0.35644\tvalidation_0-logloss:0.68386\tvalidation_1-error:0.35827\tvalidation_1-logloss:0.68434\n",
      "[8]\tvalidation_0-error:0.35615\tvalidation_0-logloss:0.68280\tvalidation_1-error:0.35827\tvalidation_1-logloss:0.68336\n",
      "[9]\tvalidation_0-error:0.35644\tvalidation_0-logloss:0.68178\tvalidation_1-error:0.35827\tvalidation_1-logloss:0.68236\n",
      "[10]\tvalidation_0-error:0.35615\tvalidation_0-logloss:0.68075\tvalidation_1-error:0.35827\tvalidation_1-logloss:0.68138\n",
      "[11]\tvalidation_0-error:0.35615\tvalidation_0-logloss:0.67975\tvalidation_1-error:0.35827\tvalidation_1-logloss:0.68047\n",
      "[12]\tvalidation_0-error:0.35615\tvalidation_0-logloss:0.67879\tvalidation_1-error:0.35827\tvalidation_1-logloss:0.67956\n",
      "[13]\tvalidation_0-error:0.35615\tvalidation_0-logloss:0.67782\tvalidation_1-error:0.35827\tvalidation_1-logloss:0.67866\n",
      "[14]\tvalidation_0-error:0.35615\tvalidation_0-logloss:0.67688\tvalidation_1-error:0.35827\tvalidation_1-logloss:0.67775\n"
     ]
    },
    {
     "name": "stderr",
     "output_type": "stream",
     "text": [
      "/Users/mohammadyakoub/.pyenv/versions/3.9.1/lib/python3.9/site-packages/xgboost/sklearn.py:1146: UserWarning: The use of label encoder in XGBClassifier is deprecated and will be removed in a future release. To remove this warning, do the following: 1) Pass option use_label_encoder=False when constructing XGBClassifier object; and 2) Encode your labels (y) as integers starting with 0, i.e. 0, 1, 2, ..., [num_class - 1].\n",
      "  warnings.warn(label_encoder_deprecation_msg, UserWarning)\n",
      "/Users/mohammadyakoub/.pyenv/versions/3.9.1/lib/python3.9/site-packages/sklearn/utils/validation.py:63: DataConversionWarning: A column-vector y was passed when a 1d array was expected. Please change the shape of y to (n_samples, ), for example using ravel().\n",
      "  return f(*args, **kwargs)\n"
     ]
    },
    {
     "name": "stdout",
     "output_type": "stream",
     "text": [
      "[15]\tvalidation_0-error:0.35615\tvalidation_0-logloss:0.67593\tvalidation_1-error:0.35827\tvalidation_1-logloss:0.67680\n",
      "[16]\tvalidation_0-error:0.35352\tvalidation_0-logloss:0.67503\tvalidation_1-error:0.35958\tvalidation_1-logloss:0.67584\n",
      "[17]\tvalidation_0-error:0.35615\tvalidation_0-logloss:0.67412\tvalidation_1-error:0.35827\tvalidation_1-logloss:0.67495\n",
      "[18]\tvalidation_0-error:0.35615\tvalidation_0-logloss:0.67325\tvalidation_1-error:0.35827\tvalidation_1-logloss:0.67411\n",
      "[19]\tvalidation_0-error:0.35615\tvalidation_0-logloss:0.67239\tvalidation_1-error:0.35827\tvalidation_1-logloss:0.67329\n",
      "[20]\tvalidation_0-error:0.35615\tvalidation_0-logloss:0.67153\tvalidation_1-error:0.35827\tvalidation_1-logloss:0.67243\n",
      "[21]\tvalidation_0-error:0.35615\tvalidation_0-logloss:0.67071\tvalidation_1-error:0.35827\tvalidation_1-logloss:0.67168\n",
      "[22]\tvalidation_0-error:0.35615\tvalidation_0-logloss:0.66990\tvalidation_1-error:0.35827\tvalidation_1-logloss:0.67088\n",
      "[23]\tvalidation_0-error:0.35615\tvalidation_0-logloss:0.66907\tvalidation_1-error:0.35827\tvalidation_1-logloss:0.67005\n",
      "[24]\tvalidation_0-error:0.35615\tvalidation_0-logloss:0.66829\tvalidation_1-error:0.35827\tvalidation_1-logloss:0.66931\n",
      "[25]\tvalidation_0-error:0.35615\tvalidation_0-logloss:0.66749\tvalidation_1-error:0.35827\tvalidation_1-logloss:0.66853\n",
      "[26]\tvalidation_0-error:0.35615\tvalidation_0-logloss:0.66671\tvalidation_1-error:0.35827\tvalidation_1-logloss:0.66780\n",
      "[27]\tvalidation_0-error:0.35615\tvalidation_0-logloss:0.66597\tvalidation_1-error:0.35827\tvalidation_1-logloss:0.66707\n",
      "[28]\tvalidation_0-error:0.35352\tvalidation_0-logloss:0.66522\tvalidation_1-error:0.35958\tvalidation_1-logloss:0.66633\n",
      "[29]\tvalidation_0-error:0.35352\tvalidation_0-logloss:0.66450\tvalidation_1-error:0.35958\tvalidation_1-logloss:0.66563\n",
      "[30]\tvalidation_0-error:0.35615\tvalidation_0-logloss:0.66380\tvalidation_1-error:0.35827\tvalidation_1-logloss:0.66500\n",
      "[31]\tvalidation_0-error:0.35352\tvalidation_0-logloss:0.66311\tvalidation_1-error:0.35958\tvalidation_1-logloss:0.66431\n",
      "[32]\tvalidation_0-error:0.35352\tvalidation_0-logloss:0.66240\tvalidation_1-error:0.35958\tvalidation_1-logloss:0.66360\n",
      "[33]\tvalidation_0-error:0.35352\tvalidation_0-logloss:0.66172\tvalidation_1-error:0.35958\tvalidation_1-logloss:0.66297\n",
      "[34]\tvalidation_0-error:0.35352\tvalidation_0-logloss:0.66107\tvalidation_1-error:0.35958\tvalidation_1-logloss:0.66234\n",
      "[35]\tvalidation_0-error:0.35061\tvalidation_0-logloss:0.66042\tvalidation_1-error:0.35302\tvalidation_1-logloss:0.66167\n",
      "[36]\tvalidation_0-error:0.35134\tvalidation_0-logloss:0.65979\tvalidation_1-error:0.35302\tvalidation_1-logloss:0.66106\n",
      "[37]\tvalidation_0-error:0.35134\tvalidation_0-logloss:0.65916\tvalidation_1-error:0.35302\tvalidation_1-logloss:0.66043\n",
      "[38]\tvalidation_0-error:0.35134\tvalidation_0-logloss:0.65855\tvalidation_1-error:0.35302\tvalidation_1-logloss:0.65984\n",
      "[39]\tvalidation_0-error:0.35134\tvalidation_0-logloss:0.65795\tvalidation_1-error:0.35302\tvalidation_1-logloss:0.65931\n",
      "[40]\tvalidation_0-error:0.35134\tvalidation_0-logloss:0.65736\tvalidation_1-error:0.35302\tvalidation_1-logloss:0.65872\n",
      "[41]\tvalidation_0-error:0.35134\tvalidation_0-logloss:0.65674\tvalidation_1-error:0.35302\tvalidation_1-logloss:0.65811\n",
      "[42]\tvalidation_0-error:0.35061\tvalidation_0-logloss:0.65617\tvalidation_1-error:0.35302\tvalidation_1-logloss:0.65753\n",
      "[43]\tvalidation_0-error:0.35061\tvalidation_0-logloss:0.65561\tvalidation_1-error:0.35302\tvalidation_1-logloss:0.65702\n",
      "[44]\tvalidation_0-error:0.35061\tvalidation_0-logloss:0.65506\tvalidation_1-error:0.35302\tvalidation_1-logloss:0.65652\n",
      "[45]\tvalidation_0-error:0.35134\tvalidation_0-logloss:0.65451\tvalidation_1-error:0.35302\tvalidation_1-logloss:0.65595\n",
      "[46]\tvalidation_0-error:0.35134\tvalidation_0-logloss:0.65395\tvalidation_1-error:0.35302\tvalidation_1-logloss:0.65541\n",
      "[47]\tvalidation_0-error:0.35134\tvalidation_0-logloss:0.65341\tvalidation_1-error:0.35302\tvalidation_1-logloss:0.65491\n",
      "[48]\tvalidation_0-error:0.35134\tvalidation_0-logloss:0.65287\tvalidation_1-error:0.35302\tvalidation_1-logloss:0.65438\n",
      "[49]\tvalidation_0-error:0.35134\tvalidation_0-logloss:0.65237\tvalidation_1-error:0.35302\tvalidation_1-logloss:0.65389\n",
      "[50]\tvalidation_0-error:0.35134\tvalidation_0-logloss:0.65185\tvalidation_1-error:0.35302\tvalidation_1-logloss:0.65338\n",
      "[51]\tvalidation_0-error:0.35134\tvalidation_0-logloss:0.65139\tvalidation_1-error:0.35302\tvalidation_1-logloss:0.65294\n",
      "[52]\tvalidation_0-error:0.35134\tvalidation_0-logloss:0.65091\tvalidation_1-error:0.35302\tvalidation_1-logloss:0.65246\n",
      "[53]\tvalidation_0-error:0.35119\tvalidation_0-logloss:0.65044\tvalidation_1-error:0.35039\tvalidation_1-logloss:0.65204\n",
      "[54]\tvalidation_0-error:0.35119\tvalidation_0-logloss:0.64996\tvalidation_1-error:0.35039\tvalidation_1-logloss:0.65153\n",
      "[55]\tvalidation_0-error:0.35119\tvalidation_0-logloss:0.64950\tvalidation_1-error:0.35039\tvalidation_1-logloss:0.65105\n",
      "[56]\tvalidation_0-error:0.35119\tvalidation_0-logloss:0.64906\tvalidation_1-error:0.35039\tvalidation_1-logloss:0.65066\n",
      "[57]\tvalidation_0-error:0.35119\tvalidation_0-logloss:0.64862\tvalidation_1-error:0.35039\tvalidation_1-logloss:0.65020\n",
      "[58]\tvalidation_0-error:0.34871\tvalidation_0-logloss:0.64816\tvalidation_1-error:0.35039\tvalidation_1-logloss:0.64970\n",
      "[59]\tvalidation_0-error:0.35061\tvalidation_0-logloss:0.64771\tvalidation_1-error:0.35039\tvalidation_1-logloss:0.64931\n",
      "[60]\tvalidation_0-error:0.34900\tvalidation_0-logloss:0.64731\tvalidation_1-error:0.35039\tvalidation_1-logloss:0.64889\n",
      "[61]\tvalidation_0-error:0.34900\tvalidation_0-logloss:0.64689\tvalidation_1-error:0.35039\tvalidation_1-logloss:0.64843\n",
      "[62]\tvalidation_0-error:0.34827\tvalidation_0-logloss:0.64649\tvalidation_1-error:0.35039\tvalidation_1-logloss:0.64801\n",
      "[63]\tvalidation_0-error:0.34827\tvalidation_0-logloss:0.64608\tvalidation_1-error:0.35039\tvalidation_1-logloss:0.64759\n",
      "[64]\tvalidation_0-error:0.34827\tvalidation_0-logloss:0.64565\tvalidation_1-error:0.35039\tvalidation_1-logloss:0.64711\n",
      "[65]\tvalidation_0-error:0.34827\tvalidation_0-logloss:0.64527\tvalidation_1-error:0.35039\tvalidation_1-logloss:0.64672\n",
      "[66]\tvalidation_0-error:0.34812\tvalidation_0-logloss:0.64487\tvalidation_1-error:0.35039\tvalidation_1-logloss:0.64632\n",
      "[67]\tvalidation_0-error:0.34812\tvalidation_0-logloss:0.64449\tvalidation_1-error:0.35039\tvalidation_1-logloss:0.64594\n",
      "[68]\tvalidation_0-error:0.34812\tvalidation_0-logloss:0.64411\tvalidation_1-error:0.35039\tvalidation_1-logloss:0.64555\n",
      "[69]\tvalidation_0-error:0.34812\tvalidation_0-logloss:0.64374\tvalidation_1-error:0.35039\tvalidation_1-logloss:0.64519\n",
      "[70]\tvalidation_0-error:0.34798\tvalidation_0-logloss:0.64339\tvalidation_1-error:0.35039\tvalidation_1-logloss:0.64487\n",
      "[71]\tvalidation_0-error:0.34798\tvalidation_0-logloss:0.64305\tvalidation_1-error:0.35039\tvalidation_1-logloss:0.64455\n",
      "[72]\tvalidation_0-error:0.34798\tvalidation_0-logloss:0.64271\tvalidation_1-error:0.35039\tvalidation_1-logloss:0.64424\n",
      "[73]\tvalidation_0-error:0.34798\tvalidation_0-logloss:0.64236\tvalidation_1-error:0.35039\tvalidation_1-logloss:0.64388\n",
      "[74]\tvalidation_0-error:0.34798\tvalidation_0-logloss:0.64202\tvalidation_1-error:0.35039\tvalidation_1-logloss:0.64351\n",
      "[75]\tvalidation_0-error:0.34798\tvalidation_0-logloss:0.64168\tvalidation_1-error:0.35039\tvalidation_1-logloss:0.64321\n",
      "[76]\tvalidation_0-error:0.34798\tvalidation_0-logloss:0.64135\tvalidation_1-error:0.35039\tvalidation_1-logloss:0.64288\n",
      "[77]\tvalidation_0-error:0.34798\tvalidation_0-logloss:0.64103\tvalidation_1-error:0.35039\tvalidation_1-logloss:0.64261\n",
      "[78]\tvalidation_0-error:0.34812\tvalidation_0-logloss:0.64070\tvalidation_1-error:0.35039\tvalidation_1-logloss:0.64229\n",
      "[79]\tvalidation_0-error:0.34798\tvalidation_0-logloss:0.64038\tvalidation_1-error:0.35039\tvalidation_1-logloss:0.64195\n",
      "[80]\tvalidation_0-error:0.34798\tvalidation_0-logloss:0.64008\tvalidation_1-error:0.35039\tvalidation_1-logloss:0.64164\n",
      "[81]\tvalidation_0-error:0.34798\tvalidation_0-logloss:0.63978\tvalidation_1-error:0.35039\tvalidation_1-logloss:0.64131\n",
      "[82]\tvalidation_0-error:0.34798\tvalidation_0-logloss:0.63947\tvalidation_1-error:0.35039\tvalidation_1-logloss:0.64104\n",
      "[83]\tvalidation_0-error:0.34798\tvalidation_0-logloss:0.63918\tvalidation_1-error:0.35039\tvalidation_1-logloss:0.64078\n",
      "[84]\tvalidation_0-error:0.34798\tvalidation_0-logloss:0.63889\tvalidation_1-error:0.35039\tvalidation_1-logloss:0.64054\n",
      "[85]\tvalidation_0-error:0.34798\tvalidation_0-logloss:0.63859\tvalidation_1-error:0.35039\tvalidation_1-logloss:0.64023\n"
     ]
    },
    {
     "name": "stdout",
     "output_type": "stream",
     "text": [
      "[86]\tvalidation_0-error:0.34798\tvalidation_0-logloss:0.63831\tvalidation_1-error:0.35039\tvalidation_1-logloss:0.63996\n",
      "[87]\tvalidation_0-error:0.34798\tvalidation_0-logloss:0.63804\tvalidation_1-error:0.35039\tvalidation_1-logloss:0.63968\n",
      "[88]\tvalidation_0-error:0.34798\tvalidation_0-logloss:0.63776\tvalidation_1-error:0.35039\tvalidation_1-logloss:0.63941\n",
      "[89]\tvalidation_0-error:0.34798\tvalidation_0-logloss:0.63749\tvalidation_1-error:0.35039\tvalidation_1-logloss:0.63913\n",
      "[90]\tvalidation_0-error:0.34798\tvalidation_0-logloss:0.63722\tvalidation_1-error:0.35039\tvalidation_1-logloss:0.63888\n",
      "[91]\tvalidation_0-error:0.34798\tvalidation_0-logloss:0.63696\tvalidation_1-error:0.35039\tvalidation_1-logloss:0.63867\n",
      "[92]\tvalidation_0-error:0.34696\tvalidation_0-logloss:0.63670\tvalidation_1-error:0.35039\tvalidation_1-logloss:0.63837\n",
      "[93]\tvalidation_0-error:0.34696\tvalidation_0-logloss:0.63641\tvalidation_1-error:0.35039\tvalidation_1-logloss:0.63815\n",
      "[94]\tvalidation_0-error:0.34696\tvalidation_0-logloss:0.63614\tvalidation_1-error:0.35039\tvalidation_1-logloss:0.63794\n",
      "[95]\tvalidation_0-error:0.34696\tvalidation_0-logloss:0.63589\tvalidation_1-error:0.35039\tvalidation_1-logloss:0.63773\n",
      "[96]\tvalidation_0-error:0.34696\tvalidation_0-logloss:0.63563\tvalidation_1-error:0.35039\tvalidation_1-logloss:0.63749\n",
      "[97]\tvalidation_0-error:0.34696\tvalidation_0-logloss:0.63538\tvalidation_1-error:0.35039\tvalidation_1-logloss:0.63721\n",
      "[98]\tvalidation_0-error:0.34696\tvalidation_0-logloss:0.63513\tvalidation_1-error:0.35039\tvalidation_1-logloss:0.63694\n",
      "[99]\tvalidation_0-error:0.34798\tvalidation_0-logloss:0.63488\tvalidation_1-error:0.35039\tvalidation_1-logloss:0.63670\n",
      "[100]\tvalidation_0-error:0.34798\tvalidation_0-logloss:0.63465\tvalidation_1-error:0.35039\tvalidation_1-logloss:0.63642\n",
      "[101]\tvalidation_0-error:0.34798\tvalidation_0-logloss:0.63443\tvalidation_1-error:0.35039\tvalidation_1-logloss:0.63619\n",
      "[102]\tvalidation_0-error:0.34798\tvalidation_0-logloss:0.63421\tvalidation_1-error:0.35039\tvalidation_1-logloss:0.63595\n",
      "[103]\tvalidation_0-error:0.34798\tvalidation_0-logloss:0.63398\tvalidation_1-error:0.35039\tvalidation_1-logloss:0.63571\n",
      "[104]\tvalidation_0-error:0.34696\tvalidation_0-logloss:0.63377\tvalidation_1-error:0.35039\tvalidation_1-logloss:0.63550\n",
      "[105]\tvalidation_0-error:0.34812\tvalidation_0-logloss:0.63355\tvalidation_1-error:0.35039\tvalidation_1-logloss:0.63532\n",
      "[106]\tvalidation_0-error:0.34812\tvalidation_0-logloss:0.63335\tvalidation_1-error:0.35039\tvalidation_1-logloss:0.63512\n",
      "[107]\tvalidation_0-error:0.34812\tvalidation_0-logloss:0.63314\tvalidation_1-error:0.35039\tvalidation_1-logloss:0.63488\n",
      "[108]\tvalidation_0-error:0.34798\tvalidation_0-logloss:0.63292\tvalidation_1-error:0.35039\tvalidation_1-logloss:0.63471\n",
      "[109]\tvalidation_0-error:0.34798\tvalidation_0-logloss:0.63273\tvalidation_1-error:0.35039\tvalidation_1-logloss:0.63443\n",
      "[110]\tvalidation_0-error:0.34798\tvalidation_0-logloss:0.63254\tvalidation_1-error:0.35039\tvalidation_1-logloss:0.63424\n",
      "[111]\tvalidation_0-error:0.34798\tvalidation_0-logloss:0.63236\tvalidation_1-error:0.35039\tvalidation_1-logloss:0.63407\n",
      "[112]\tvalidation_0-error:0.34798\tvalidation_0-logloss:0.63217\tvalidation_1-error:0.35039\tvalidation_1-logloss:0.63389\n",
      "[113]\tvalidation_0-error:0.34798\tvalidation_0-logloss:0.63196\tvalidation_1-error:0.35039\tvalidation_1-logloss:0.63375\n",
      "[114]\tvalidation_0-error:0.34798\tvalidation_0-logloss:0.63177\tvalidation_1-error:0.35039\tvalidation_1-logloss:0.63354\n",
      "[115]\tvalidation_0-error:0.34798\tvalidation_0-logloss:0.63160\tvalidation_1-error:0.35039\tvalidation_1-logloss:0.63333\n",
      "[116]\tvalidation_0-error:0.34798\tvalidation_0-logloss:0.63140\tvalidation_1-error:0.35039\tvalidation_1-logloss:0.63315\n",
      "[117]\tvalidation_0-error:0.34798\tvalidation_0-logloss:0.63123\tvalidation_1-error:0.35039\tvalidation_1-logloss:0.63295\n",
      "[118]\tvalidation_0-error:0.34798\tvalidation_0-logloss:0.63105\tvalidation_1-error:0.35039\tvalidation_1-logloss:0.63279\n",
      "[119]\tvalidation_0-error:0.34812\tvalidation_0-logloss:0.63087\tvalidation_1-error:0.35039\tvalidation_1-logloss:0.63260\n",
      "[120]\tvalidation_0-error:0.34696\tvalidation_0-logloss:0.63071\tvalidation_1-error:0.35039\tvalidation_1-logloss:0.63246\n",
      "[121]\tvalidation_0-error:0.34812\tvalidation_0-logloss:0.63054\tvalidation_1-error:0.35039\tvalidation_1-logloss:0.63225\n",
      "[122]\tvalidation_0-error:0.34812\tvalidation_0-logloss:0.63037\tvalidation_1-error:0.35039\tvalidation_1-logloss:0.63207\n",
      "[123]\tvalidation_0-error:0.34812\tvalidation_0-logloss:0.63020\tvalidation_1-error:0.35039\tvalidation_1-logloss:0.63192\n",
      "[124]\tvalidation_0-error:0.34812\tvalidation_0-logloss:0.63003\tvalidation_1-error:0.35039\tvalidation_1-logloss:0.63173\n",
      "[125]\tvalidation_0-error:0.34812\tvalidation_0-logloss:0.62984\tvalidation_1-error:0.35039\tvalidation_1-logloss:0.63157\n",
      "[126]\tvalidation_0-error:0.34812\tvalidation_0-logloss:0.62967\tvalidation_1-error:0.35039\tvalidation_1-logloss:0.63139\n",
      "[127]\tvalidation_0-error:0.34812\tvalidation_0-logloss:0.62951\tvalidation_1-error:0.35039\tvalidation_1-logloss:0.63126\n",
      "[128]\tvalidation_0-error:0.34812\tvalidation_0-logloss:0.62935\tvalidation_1-error:0.35039\tvalidation_1-logloss:0.63113\n",
      "[129]\tvalidation_0-error:0.34812\tvalidation_0-logloss:0.62920\tvalidation_1-error:0.35039\tvalidation_1-logloss:0.63096\n",
      "[130]\tvalidation_0-error:0.34798\tvalidation_0-logloss:0.62906\tvalidation_1-error:0.35039\tvalidation_1-logloss:0.63083\n",
      "[131]\tvalidation_0-error:0.34798\tvalidation_0-logloss:0.62890\tvalidation_1-error:0.35039\tvalidation_1-logloss:0.63064\n",
      "[132]\tvalidation_0-error:0.34798\tvalidation_0-logloss:0.62875\tvalidation_1-error:0.35039\tvalidation_1-logloss:0.63046\n",
      "[133]\tvalidation_0-error:0.34812\tvalidation_0-logloss:0.62859\tvalidation_1-error:0.35039\tvalidation_1-logloss:0.63033\n",
      "[134]\tvalidation_0-error:0.34798\tvalidation_0-logloss:0.62845\tvalidation_1-error:0.35039\tvalidation_1-logloss:0.63020\n",
      "[135]\tvalidation_0-error:0.34798\tvalidation_0-logloss:0.62829\tvalidation_1-error:0.35039\tvalidation_1-logloss:0.63003\n",
      "[136]\tvalidation_0-error:0.34798\tvalidation_0-logloss:0.62814\tvalidation_1-error:0.35039\tvalidation_1-logloss:0.62992\n",
      "[137]\tvalidation_0-error:0.34798\tvalidation_0-logloss:0.62801\tvalidation_1-error:0.35039\tvalidation_1-logloss:0.62975\n",
      "[138]\tvalidation_0-error:0.34798\tvalidation_0-logloss:0.62788\tvalidation_1-error:0.35039\tvalidation_1-logloss:0.62961\n",
      "[139]\tvalidation_0-error:0.34798\tvalidation_0-logloss:0.62773\tvalidation_1-error:0.35039\tvalidation_1-logloss:0.62943\n",
      "[140]\tvalidation_0-error:0.34798\tvalidation_0-logloss:0.62761\tvalidation_1-error:0.35039\tvalidation_1-logloss:0.62931\n",
      "[141]\tvalidation_0-error:0.34798\tvalidation_0-logloss:0.62748\tvalidation_1-error:0.35039\tvalidation_1-logloss:0.62918\n",
      "[142]\tvalidation_0-error:0.34798\tvalidation_0-logloss:0.62735\tvalidation_1-error:0.35039\tvalidation_1-logloss:0.62905\n",
      "[143]\tvalidation_0-error:0.34798\tvalidation_0-logloss:0.62722\tvalidation_1-error:0.35039\tvalidation_1-logloss:0.62891\n",
      "[144]\tvalidation_0-error:0.34798\tvalidation_0-logloss:0.62708\tvalidation_1-error:0.35039\tvalidation_1-logloss:0.62882\n",
      "[145]\tvalidation_0-error:0.34798\tvalidation_0-logloss:0.62694\tvalidation_1-error:0.35039\tvalidation_1-logloss:0.62867\n",
      "[146]\tvalidation_0-error:0.34798\tvalidation_0-logloss:0.62682\tvalidation_1-error:0.35039\tvalidation_1-logloss:0.62857\n",
      "[147]\tvalidation_0-error:0.34798\tvalidation_0-logloss:0.62669\tvalidation_1-error:0.35039\tvalidation_1-logloss:0.62845\n",
      "[148]\tvalidation_0-error:0.34812\tvalidation_0-logloss:0.62657\tvalidation_1-error:0.35039\tvalidation_1-logloss:0.62833\n",
      "[149]\tvalidation_0-error:0.34812\tvalidation_0-logloss:0.62645\tvalidation_1-error:0.35039\tvalidation_1-logloss:0.62821\n",
      "[150]\tvalidation_0-error:0.34812\tvalidation_0-logloss:0.62632\tvalidation_1-error:0.35039\tvalidation_1-logloss:0.62812\n",
      "[151]\tvalidation_0-error:0.34812\tvalidation_0-logloss:0.62617\tvalidation_1-error:0.35039\tvalidation_1-logloss:0.62801\n",
      "[152]\tvalidation_0-error:0.34812\tvalidation_0-logloss:0.62605\tvalidation_1-error:0.35039\tvalidation_1-logloss:0.62788\n",
      "[153]\tvalidation_0-error:0.34827\tvalidation_0-logloss:0.62592\tvalidation_1-error:0.34908\tvalidation_1-logloss:0.62775\n",
      "[154]\tvalidation_0-error:0.34827\tvalidation_0-logloss:0.62583\tvalidation_1-error:0.34908\tvalidation_1-logloss:0.62764\n",
      "[155]\tvalidation_0-error:0.34827\tvalidation_0-logloss:0.62569\tvalidation_1-error:0.34908\tvalidation_1-logloss:0.62754\n"
     ]
    },
    {
     "name": "stdout",
     "output_type": "stream",
     "text": [
      "[156]\tvalidation_0-error:0.34827\tvalidation_0-logloss:0.62559\tvalidation_1-error:0.34908\tvalidation_1-logloss:0.62745\n",
      "[157]\tvalidation_0-error:0.34827\tvalidation_0-logloss:0.62548\tvalidation_1-error:0.34908\tvalidation_1-logloss:0.62736\n",
      "[158]\tvalidation_0-error:0.34827\tvalidation_0-logloss:0.62536\tvalidation_1-error:0.34908\tvalidation_1-logloss:0.62727\n",
      "[159]\tvalidation_0-error:0.34827\tvalidation_0-logloss:0.62526\tvalidation_1-error:0.34908\tvalidation_1-logloss:0.62714\n",
      "[160]\tvalidation_0-error:0.34827\tvalidation_0-logloss:0.62515\tvalidation_1-error:0.34908\tvalidation_1-logloss:0.62699\n",
      "[161]\tvalidation_0-error:0.34827\tvalidation_0-logloss:0.62506\tvalidation_1-error:0.34908\tvalidation_1-logloss:0.62690\n",
      "[162]\tvalidation_0-error:0.34827\tvalidation_0-logloss:0.62496\tvalidation_1-error:0.34908\tvalidation_1-logloss:0.62683\n",
      "[163]\tvalidation_0-error:0.34827\tvalidation_0-logloss:0.62486\tvalidation_1-error:0.34908\tvalidation_1-logloss:0.62675\n",
      "[164]\tvalidation_0-error:0.34827\tvalidation_0-logloss:0.62475\tvalidation_1-error:0.34908\tvalidation_1-logloss:0.62663\n",
      "[165]\tvalidation_0-error:0.34827\tvalidation_0-logloss:0.62464\tvalidation_1-error:0.34908\tvalidation_1-logloss:0.62649\n",
      "[166]\tvalidation_0-error:0.34827\tvalidation_0-logloss:0.62451\tvalidation_1-error:0.34908\tvalidation_1-logloss:0.62643\n",
      "[167]\tvalidation_0-error:0.34827\tvalidation_0-logloss:0.62440\tvalidation_1-error:0.34908\tvalidation_1-logloss:0.62633\n",
      "[168]\tvalidation_0-error:0.34827\tvalidation_0-logloss:0.62428\tvalidation_1-error:0.34908\tvalidation_1-logloss:0.62626\n",
      "[169]\tvalidation_0-error:0.34827\tvalidation_0-logloss:0.62419\tvalidation_1-error:0.34908\tvalidation_1-logloss:0.62619\n",
      "[170]\tvalidation_0-error:0.34827\tvalidation_0-logloss:0.62410\tvalidation_1-error:0.34908\tvalidation_1-logloss:0.62609\n",
      "[171]\tvalidation_0-error:0.34827\tvalidation_0-logloss:0.62399\tvalidation_1-error:0.34908\tvalidation_1-logloss:0.62600\n",
      "[172]\tvalidation_0-error:0.34827\tvalidation_0-logloss:0.62388\tvalidation_1-error:0.34908\tvalidation_1-logloss:0.62596\n",
      "[173]\tvalidation_0-error:0.34827\tvalidation_0-logloss:0.62378\tvalidation_1-error:0.34908\tvalidation_1-logloss:0.62590\n",
      "[174]\tvalidation_0-error:0.34827\tvalidation_0-logloss:0.62370\tvalidation_1-error:0.34908\tvalidation_1-logloss:0.62582\n",
      "[175]\tvalidation_0-error:0.34827\tvalidation_0-logloss:0.62362\tvalidation_1-error:0.34908\tvalidation_1-logloss:0.62575\n",
      "[176]\tvalidation_0-error:0.34827\tvalidation_0-logloss:0.62351\tvalidation_1-error:0.34908\tvalidation_1-logloss:0.62574\n",
      "[177]\tvalidation_0-error:0.34827\tvalidation_0-logloss:0.62343\tvalidation_1-error:0.34908\tvalidation_1-logloss:0.62570\n",
      "[178]\tvalidation_0-error:0.34827\tvalidation_0-logloss:0.62334\tvalidation_1-error:0.34908\tvalidation_1-logloss:0.62566\n",
      "[179]\tvalidation_0-error:0.34827\tvalidation_0-logloss:0.62323\tvalidation_1-error:0.34908\tvalidation_1-logloss:0.62555\n",
      "[180]\tvalidation_0-error:0.34827\tvalidation_0-logloss:0.62311\tvalidation_1-error:0.34908\tvalidation_1-logloss:0.62548\n",
      "[181]\tvalidation_0-error:0.34827\tvalidation_0-logloss:0.62299\tvalidation_1-error:0.34908\tvalidation_1-logloss:0.62543\n",
      "[182]\tvalidation_0-error:0.34827\tvalidation_0-logloss:0.62290\tvalidation_1-error:0.34908\tvalidation_1-logloss:0.62528\n",
      "[183]\tvalidation_0-error:0.34827\tvalidation_0-logloss:0.62283\tvalidation_1-error:0.34908\tvalidation_1-logloss:0.62522\n",
      "[184]\tvalidation_0-error:0.34827\tvalidation_0-logloss:0.62276\tvalidation_1-error:0.34908\tvalidation_1-logloss:0.62515\n",
      "[185]\tvalidation_0-error:0.34827\tvalidation_0-logloss:0.62266\tvalidation_1-error:0.34908\tvalidation_1-logloss:0.62508\n",
      "[186]\tvalidation_0-error:0.34827\tvalidation_0-logloss:0.62256\tvalidation_1-error:0.34908\tvalidation_1-logloss:0.62497\n",
      "[187]\tvalidation_0-error:0.34827\tvalidation_0-logloss:0.62248\tvalidation_1-error:0.34908\tvalidation_1-logloss:0.62493\n",
      "[188]\tvalidation_0-error:0.34812\tvalidation_0-logloss:0.62239\tvalidation_1-error:0.34908\tvalidation_1-logloss:0.62480\n",
      "[189]\tvalidation_0-error:0.34812\tvalidation_0-logloss:0.62229\tvalidation_1-error:0.34908\tvalidation_1-logloss:0.62473\n",
      "[190]\tvalidation_0-error:0.34812\tvalidation_0-logloss:0.62221\tvalidation_1-error:0.34908\tvalidation_1-logloss:0.62461\n",
      "[191]\tvalidation_0-error:0.34812\tvalidation_0-logloss:0.62211\tvalidation_1-error:0.34908\tvalidation_1-logloss:0.62457\n",
      "[192]\tvalidation_0-error:0.34812\tvalidation_0-logloss:0.62203\tvalidation_1-error:0.34908\tvalidation_1-logloss:0.62451\n",
      "[193]\tvalidation_0-error:0.34812\tvalidation_0-logloss:0.62195\tvalidation_1-error:0.34908\tvalidation_1-logloss:0.62441\n",
      "[194]\tvalidation_0-error:0.34812\tvalidation_0-logloss:0.62188\tvalidation_1-error:0.34908\tvalidation_1-logloss:0.62433\n",
      "[195]\tvalidation_0-error:0.34812\tvalidation_0-logloss:0.62180\tvalidation_1-error:0.34908\tvalidation_1-logloss:0.62428\n",
      "[196]\tvalidation_0-error:0.34812\tvalidation_0-logloss:0.62173\tvalidation_1-error:0.34908\tvalidation_1-logloss:0.62423\n",
      "[197]\tvalidation_0-error:0.34812\tvalidation_0-logloss:0.62164\tvalidation_1-error:0.34908\tvalidation_1-logloss:0.62412\n",
      "[198]\tvalidation_0-error:0.34812\tvalidation_0-logloss:0.62158\tvalidation_1-error:0.34908\tvalidation_1-logloss:0.62408\n",
      "[199]\tvalidation_0-error:0.34812\tvalidation_0-logloss:0.62151\tvalidation_1-error:0.34908\tvalidation_1-logloss:0.62402\n",
      "CPU times: user 2.91 s, sys: 201 ms, total: 3.11 s\n",
      "Wall time: 1.76 s\n"
     ]
    },
    {
     "data": {
      "text/plain": [
       "XGBClassifier(base_score=0.5, booster='gbtree', colsample_bylevel=1,\n",
       "              colsample_bynode=1, colsample_bytree=1, gamma=0, gpu_id=-1,\n",
       "              importance_type='gain', interaction_constraints='',\n",
       "              learning_rate=0.01, max_delta_step=0, max_depth=4,\n",
       "              min_child_weight=1, missing=nan, monotone_constraints='()',\n",
       "              n_estimators=200, n_jobs=4, num_parallel_tree=1, random_state=0,\n",
       "              reg_alpha=0, reg_lambda=1, scale_pos_weight=1, subsample=0.9,\n",
       "              tree_method='exact', validate_parameters=1, verbosity=None)"
      ]
     },
     "execution_count": 60,
     "metadata": {},
     "output_type": "execute_result"
    }
   ],
   "source": [
    "%%time\n",
    "\n",
    "xgb_model = xgb.XGBClassifier(max_depth=4,\n",
    "                        subsample=0.9,\n",
    "                        objective='binary:logistic',\n",
    "                        n_estimators=200,\n",
    "                        learning_rate = 0.01)\n",
    "eval_set = [(train_X, train_Y), (test_X, test_Y)]\n",
    "xgb_model.fit(train_X, train_Y.ravel(), early_stopping_rounds=10, eval_metric=[\"error\", \"logloss\"], eval_set=eval_set, verbose=True)\n",
    "\n"
   ]
  },
  {
   "cell_type": "code",
   "execution_count": 61,
   "id": "decent-lexington",
   "metadata": {},
   "outputs": [
    {
     "name": "stdout",
     "output_type": "stream",
     "text": [
      "Accuracy: 65.09%\n"
     ]
    }
   ],
   "source": [
    "# make predictions for test data\n",
    "y_pred = xgb_model.predict(test_X)\n",
    "predictions = [round(value) for value in y_pred]\n",
    "# evaluate predictions\n",
    "accuracy = accuracy_score(test_Y, predictions)\n",
    "print(\"Accuracy: %.2f%%\" % (accuracy * 100.0))"
   ]
  },
  {
   "cell_type": "code",
   "execution_count": 58,
   "id": "addressed-liechtenstein",
   "metadata": {},
   "outputs": [],
   "source": [
    "test_negativity_score = test_dataset['text'].apply(negative_score)"
   ]
  },
  {
   "cell_type": "code",
   "execution_count": 63,
   "id": "ordinary-first",
   "metadata": {},
   "outputs": [],
   "source": [
    "y_test_pred = xgb_model.predict(np.vstack(test_negativity_score))"
   ]
  },
  {
   "cell_type": "code",
   "execution_count": 64,
   "id": "thermal-calendar",
   "metadata": {},
   "outputs": [
    {
     "data": {
      "text/plain": [
       "array([1, 0, 1, ..., 1, 1, 0])"
      ]
     },
     "execution_count": 64,
     "metadata": {},
     "output_type": "execute_result"
    }
   ],
   "source": [
    "y_test_pred"
   ]
  },
  {
   "cell_type": "code",
   "execution_count": 65,
   "id": "statutory-toolbox",
   "metadata": {},
   "outputs": [],
   "source": [
    "y_test_id = test_dataset['id']"
   ]
  },
  {
   "cell_type": "code",
   "execution_count": 70,
   "id": "greenhouse-addiction",
   "metadata": {},
   "outputs": [],
   "source": [
    "data = [y_test_id, pd.Series(y_test_pred)]\n",
    "headers = [\"id\", \"target\"]\n",
    "submission = pd.concat(data, axis=1, keys=headers)"
   ]
  },
  {
   "cell_type": "code",
   "execution_count": 72,
   "id": "fresh-design",
   "metadata": {},
   "outputs": [],
   "source": [
    "submission.to_csv('submission.csv', index=False)"
   ]
  },
  {
   "cell_type": "code",
   "execution_count": null,
   "id": "proper-struggle",
   "metadata": {},
   "outputs": [],
   "source": []
  }
 ],
 "metadata": {
  "kernelspec": {
   "display_name": "Python 3",
   "language": "python",
   "name": "python3"
  },
  "language_info": {
   "codemirror_mode": {
    "name": "ipython",
    "version": 3
   },
   "file_extension": ".py",
   "mimetype": "text/x-python",
   "name": "python",
   "nbconvert_exporter": "python",
   "pygments_lexer": "ipython3",
   "version": "3.9.1"
  }
 },
 "nbformat": 4,
 "nbformat_minor": 5
}
