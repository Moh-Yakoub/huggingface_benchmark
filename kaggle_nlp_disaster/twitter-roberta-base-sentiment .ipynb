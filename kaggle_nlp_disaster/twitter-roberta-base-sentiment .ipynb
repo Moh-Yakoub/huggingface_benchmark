{
 "cells": [
  {
   "cell_type": "code",
   "execution_count": 54,
   "id": "amber-garlic",
   "metadata": {},
   "outputs": [],
   "source": [
    "from transformers import AutoModelForSequenceClassification\n",
    "from transformers import TFAutoModelForSequenceClassification\n",
    "from transformers import AutoTokenizer\n",
    "from scipy.special import softmax\n",
    "import csv\n",
    "import urllib.request\n"
   ]
  },
  {
   "cell_type": "code",
   "execution_count": 55,
   "id": "younger-louis",
   "metadata": {},
   "outputs": [],
   "source": [
    "# Preprocess text (username and link placeholders)\n",
    "def preprocess(text):\n",
    "    new_text = []\n",
    "\n",
    "\n",
    "    for t in text.split(\" \"):\n",
    "        t = '@user' if t.startswith('@') and len(t) > 1 else t\n",
    "        t = 'http' if t.startswith('http') else t\n",
    "        new_text.append(t)\n",
    "    return \" \".join(new_text)"
   ]
  },
  {
   "cell_type": "code",
   "execution_count": 56,
   "id": "enabling-morning",
   "metadata": {},
   "outputs": [],
   "source": [
    "# Tasks:\n",
    "# emoji, emotion, hate, irony, offensive, sentiment\n",
    "# stance/abortion, stance/atheism, stance/climate, stance/feminist, stance/hillary\n",
    "\n",
    "task='sentiment'\n",
    "MODEL = f\"cardiffnlp/twitter-roberta-base-{task}\"\n",
    "\n",
    "tokenizer = AutoTokenizer.from_pretrained(MODEL)\n",
    "\n",
    "# download label mapping\n",
    "labels=[]\n",
    "mapping_link = f\"https://raw.githubusercontent.com/cardiffnlp/tweeteval/main/datasets/{task}/mapping.txt\"\n",
    "with urllib.request.urlopen(mapping_link) as f:\n",
    "    html = f.read().decode('utf-8').split(\"\\n\")\n",
    "    csvreader = csv.reader(html, delimiter='\\t')\n",
    "labels = [row[1] for row in csvreader if len(row) > 1]\n",
    "\n",
    "# PT\n",
    "model = AutoModelForSequenceClassification.from_pretrained(MODEL)\n",
    "model.save_pretrained(MODEL)\n"
   ]
  },
  {
   "cell_type": "code",
   "execution_count": 73,
   "id": "aware-criterion",
   "metadata": {},
   "outputs": [],
   "source": [
    "def negative_score(text):\n",
    "    text = preprocess(text)\n",
    "    encoded_input = tokenizer(text, return_tensors='pt')\n",
    "    output = model(**encoded_input)\n",
    "    scores = output[0][0].detach().numpy()\n",
    "    scores = softmax(scores)\n",
    "    return scores"
   ]
  },
  {
   "cell_type": "code",
   "execution_count": 74,
   "id": "convenient-farming",
   "metadata": {},
   "outputs": [],
   "source": [
    "import pandas as pd"
   ]
  },
  {
   "cell_type": "code",
   "execution_count": 75,
   "id": "continental-incentive",
   "metadata": {},
   "outputs": [],
   "source": [
    "train_dataset = pd.read_csv('./train.csv')\n",
    "test_dataset = pd.read_csv('./test.csv')"
   ]
  },
  {
   "cell_type": "code",
   "execution_count": 76,
   "id": "affiliated-modem",
   "metadata": {},
   "outputs": [
    {
     "data": {
      "text/html": [
       "<div>\n",
       "<style scoped>\n",
       "    .dataframe tbody tr th:only-of-type {\n",
       "        vertical-align: middle;\n",
       "    }\n",
       "\n",
       "    .dataframe tbody tr th {\n",
       "        vertical-align: top;\n",
       "    }\n",
       "\n",
       "    .dataframe thead th {\n",
       "        text-align: right;\n",
       "    }\n",
       "</style>\n",
       "<table border=\"1\" class=\"dataframe\">\n",
       "  <thead>\n",
       "    <tr style=\"text-align: right;\">\n",
       "      <th></th>\n",
       "      <th>id</th>\n",
       "      <th>keyword</th>\n",
       "      <th>location</th>\n",
       "      <th>text</th>\n",
       "      <th>target</th>\n",
       "    </tr>\n",
       "  </thead>\n",
       "  <tbody>\n",
       "    <tr>\n",
       "      <th>0</th>\n",
       "      <td>1</td>\n",
       "      <td>NaN</td>\n",
       "      <td>NaN</td>\n",
       "      <td>Our Deeds are the Reason of this #earthquake M...</td>\n",
       "      <td>1</td>\n",
       "    </tr>\n",
       "    <tr>\n",
       "      <th>1</th>\n",
       "      <td>4</td>\n",
       "      <td>NaN</td>\n",
       "      <td>NaN</td>\n",
       "      <td>Forest fire near La Ronge Sask. Canada</td>\n",
       "      <td>1</td>\n",
       "    </tr>\n",
       "    <tr>\n",
       "      <th>2</th>\n",
       "      <td>5</td>\n",
       "      <td>NaN</td>\n",
       "      <td>NaN</td>\n",
       "      <td>All residents asked to 'shelter in place' are ...</td>\n",
       "      <td>1</td>\n",
       "    </tr>\n",
       "    <tr>\n",
       "      <th>3</th>\n",
       "      <td>6</td>\n",
       "      <td>NaN</td>\n",
       "      <td>NaN</td>\n",
       "      <td>13,000 people receive #wildfires evacuation or...</td>\n",
       "      <td>1</td>\n",
       "    </tr>\n",
       "    <tr>\n",
       "      <th>4</th>\n",
       "      <td>7</td>\n",
       "      <td>NaN</td>\n",
       "      <td>NaN</td>\n",
       "      <td>Just got sent this photo from Ruby #Alaska as ...</td>\n",
       "      <td>1</td>\n",
       "    </tr>\n",
       "  </tbody>\n",
       "</table>\n",
       "</div>"
      ],
      "text/plain": [
       "   id keyword location                                               text  \\\n",
       "0   1     NaN      NaN  Our Deeds are the Reason of this #earthquake M...   \n",
       "1   4     NaN      NaN             Forest fire near La Ronge Sask. Canada   \n",
       "2   5     NaN      NaN  All residents asked to 'shelter in place' are ...   \n",
       "3   6     NaN      NaN  13,000 people receive #wildfires evacuation or...   \n",
       "4   7     NaN      NaN  Just got sent this photo from Ruby #Alaska as ...   \n",
       "\n",
       "   target  \n",
       "0       1  \n",
       "1       1  \n",
       "2       1  \n",
       "3       1  \n",
       "4       1  "
      ]
     },
     "execution_count": 76,
     "metadata": {},
     "output_type": "execute_result"
    }
   ],
   "source": [
    "train_dataset.head()"
   ]
  },
  {
   "cell_type": "code",
   "execution_count": 38,
   "id": "outstanding-locking",
   "metadata": {},
   "outputs": [
    {
     "data": {
      "text/plain": [
       "0"
      ]
     },
     "execution_count": 38,
     "metadata": {},
     "output_type": "execute_result"
    }
   ],
   "source": [
    "train_dataset['text'].isnull().sum()"
   ]
  },
  {
   "cell_type": "code",
   "execution_count": 79,
   "id": "visible-tissue",
   "metadata": {},
   "outputs": [],
   "source": [
    "negativity_score = train_dataset['text'].apply(negative_score)"
   ]
  },
  {
   "cell_type": "code",
   "execution_count": 80,
   "id": "portuguese-automation",
   "metadata": {},
   "outputs": [
    {
     "data": {
      "text/plain": [
       "0          [0.04231138, 0.5765478, 0.3811407]\n",
       "1          [0.3379307, 0.635805, 0.026264267]\n",
       "2        [0.13055776, 0.82776093, 0.04168123]\n",
       "3        [0.27099624, 0.6886033, 0.040400457]\n",
       "4       [0.55991334, 0.41471392, 0.025372643]\n",
       "                        ...                  \n",
       "7608     [0.38264447, 0.57848406, 0.03887146]\n",
       "7609    [0.91048276, 0.08377866, 0.005738619]\n",
       "7610     [0.07550905, 0.8929527, 0.031538185]\n",
       "7611      [0.596613, 0.36611944, 0.037267584]\n",
       "7612     [0.43497035, 0.5436898, 0.021339823]\n",
       "Name: text, Length: 7613, dtype: object"
      ]
     },
     "execution_count": 80,
     "metadata": {},
     "output_type": "execute_result"
    }
   ],
   "source": [
    "negativity_score"
   ]
  },
  {
   "cell_type": "code",
   "execution_count": 81,
   "id": "indoor-electric",
   "metadata": {},
   "outputs": [],
   "source": [
    "from sklearn.model_selection import train_test_split\n",
    "import xgboost as xgb\n",
    "from sklearn.metrics import accuracy_score\n",
    "import numpy as np"
   ]
  },
  {
   "cell_type": "code",
   "execution_count": 82,
   "id": "planned-juvenile",
   "metadata": {},
   "outputs": [
    {
     "name": "stdout",
     "output_type": "stream",
     "text": [
      "((7613, 3), (7613, 1))\n"
     ]
    }
   ],
   "source": [
    "X = np.vstack(negativity_score)\n",
    "Y = np.vstack(train_dataset['target'])\n",
    "train_X, test_X, train_Y, test_Y = train_test_split(X, Y, test_size=0.1, stratify=Y, random_state=0)\n",
    "print((X.shape, Y.shape))"
   ]
  },
  {
   "cell_type": "code",
   "execution_count": 83,
   "id": "closing-culture",
   "metadata": {},
   "outputs": [
    {
     "name": "stdout",
     "output_type": "stream",
     "text": [
      "[0]\tvalidation_0-error:0.33090\tvalidation_0-logloss:0.69150\tvalidation_1-error:0.33333\tvalidation_1-logloss:0.69159\n",
      "[1]\tvalidation_0-error:0.31134\tvalidation_0-logloss:0.68979\tvalidation_1-error:0.31365\tvalidation_1-logloss:0.68995\n",
      "[2]\tvalidation_0-error:0.31047\tvalidation_0-logloss:0.68820\tvalidation_1-error:0.31365\tvalidation_1-logloss:0.68842\n",
      "[3]\tvalidation_0-error:0.30258\tvalidation_0-logloss:0.68659\tvalidation_1-error:0.31759\tvalidation_1-logloss:0.68699\n",
      "[4]\tvalidation_0-error:0.32156\tvalidation_0-logloss:0.68505\tvalidation_1-error:0.32021\tvalidation_1-logloss:0.68552\n",
      "[5]\tvalidation_0-error:0.31951\tvalidation_0-logloss:0.68346\tvalidation_1-error:0.33202\tvalidation_1-logloss:0.68414\n",
      "[6]\tvalidation_0-error:0.31981\tvalidation_0-logloss:0.68192\tvalidation_1-error:0.33202\tvalidation_1-logloss:0.68282\n",
      "[7]\tvalidation_0-error:0.30171\tvalidation_0-logloss:0.68039\tvalidation_1-error:0.31627\tvalidation_1-logloss:0.68146\n",
      "[8]\tvalidation_0-error:0.31557\tvalidation_0-logloss:0.67895\tvalidation_1-error:0.33202\tvalidation_1-logloss:0.68014\n",
      "[9]\tvalidation_0-error:0.30755\tvalidation_0-logloss:0.67739\tvalidation_1-error:0.31890\tvalidation_1-logloss:0.67863\n",
      "[10]\tvalidation_0-error:0.30448\tvalidation_0-logloss:0.67594\tvalidation_1-error:0.30971\tvalidation_1-logloss:0.67723\n",
      "[11]\tvalidation_0-error:0.30594\tvalidation_0-logloss:0.67454\tvalidation_1-error:0.31759\tvalidation_1-logloss:0.67601\n",
      "[12]\tvalidation_0-error:0.30215\tvalidation_0-logloss:0.67322\tvalidation_1-error:0.31234\tvalidation_1-logloss:0.67485\n",
      "[13]\tvalidation_0-error:0.29923\tvalidation_0-logloss:0.67183\tvalidation_1-error:0.31234\tvalidation_1-logloss:0.67349\n",
      "[14]\tvalidation_0-error:0.29923\tvalidation_0-logloss:0.67056\tvalidation_1-error:0.31234\tvalidation_1-logloss:0.67221\n",
      "[15]\tvalidation_0-error:0.30083\tvalidation_0-logloss:0.66926\tvalidation_1-error:0.29921\tvalidation_1-logloss:0.67095\n",
      "[16]\tvalidation_0-error:0.29966\tvalidation_0-logloss:0.66785\tvalidation_1-error:0.31102\tvalidation_1-logloss:0.66968\n"
     ]
    },
    {
     "name": "stderr",
     "output_type": "stream",
     "text": [
      "/Users/mohammadyakoub/.pyenv/versions/3.9.1/lib/python3.9/site-packages/xgboost/sklearn.py:1146: UserWarning: The use of label encoder in XGBClassifier is deprecated and will be removed in a future release. To remove this warning, do the following: 1) Pass option use_label_encoder=False when constructing XGBClassifier object; and 2) Encode your labels (y) as integers starting with 0, i.e. 0, 1, 2, ..., [num_class - 1].\n",
      "  warnings.warn(label_encoder_deprecation_msg, UserWarning)\n",
      "/Users/mohammadyakoub/.pyenv/versions/3.9.1/lib/python3.9/site-packages/sklearn/utils/validation.py:63: DataConversionWarning: A column-vector y was passed when a 1d array was expected. Please change the shape of y to (n_samples, ), for example using ravel().\n",
      "  return f(*args, **kwargs)\n"
     ]
    },
    {
     "name": "stdout",
     "output_type": "stream",
     "text": [
      "[17]\tvalidation_0-error:0.30185\tvalidation_0-logloss:0.66647\tvalidation_1-error:0.31234\tvalidation_1-logloss:0.66831\n",
      "[18]\tvalidation_0-error:0.30579\tvalidation_0-logloss:0.66510\tvalidation_1-error:0.31102\tvalidation_1-logloss:0.66707\n",
      "[19]\tvalidation_0-error:0.30185\tvalidation_0-logloss:0.66396\tvalidation_1-error:0.31234\tvalidation_1-logloss:0.66597\n",
      "[20]\tvalidation_0-error:0.30273\tvalidation_0-logloss:0.66280\tvalidation_1-error:0.30446\tvalidation_1-logloss:0.66479\n",
      "[21]\tvalidation_0-error:0.30258\tvalidation_0-logloss:0.66153\tvalidation_1-error:0.30052\tvalidation_1-logloss:0.66354\n",
      "[22]\tvalidation_0-error:0.30054\tvalidation_0-logloss:0.66034\tvalidation_1-error:0.29921\tvalidation_1-logloss:0.66240\n",
      "[23]\tvalidation_0-error:0.30244\tvalidation_0-logloss:0.65905\tvalidation_1-error:0.29790\tvalidation_1-logloss:0.66120\n",
      "[24]\tvalidation_0-error:0.30039\tvalidation_0-logloss:0.65788\tvalidation_1-error:0.29396\tvalidation_1-logloss:0.66017\n",
      "[25]\tvalidation_0-error:0.29850\tvalidation_0-logloss:0.65673\tvalidation_1-error:0.29265\tvalidation_1-logloss:0.65908\n",
      "[26]\tvalidation_0-error:0.29820\tvalidation_0-logloss:0.65569\tvalidation_1-error:0.29528\tvalidation_1-logloss:0.65812\n",
      "[27]\tvalidation_0-error:0.29996\tvalidation_0-logloss:0.65449\tvalidation_1-error:0.29921\tvalidation_1-logloss:0.65700\n",
      "[28]\tvalidation_0-error:0.29499\tvalidation_0-logloss:0.65344\tvalidation_1-error:0.29265\tvalidation_1-logloss:0.65596\n",
      "[29]\tvalidation_0-error:0.29806\tvalidation_0-logloss:0.65235\tvalidation_1-error:0.29921\tvalidation_1-logloss:0.65489\n",
      "[30]\tvalidation_0-error:0.29631\tvalidation_0-logloss:0.65122\tvalidation_1-error:0.29790\tvalidation_1-logloss:0.65395\n",
      "[31]\tvalidation_0-error:0.29558\tvalidation_0-logloss:0.65013\tvalidation_1-error:0.29921\tvalidation_1-logloss:0.65287\n",
      "[32]\tvalidation_0-error:0.29397\tvalidation_0-logloss:0.64897\tvalidation_1-error:0.29528\tvalidation_1-logloss:0.65170\n",
      "[33]\tvalidation_0-error:0.29485\tvalidation_0-logloss:0.64789\tvalidation_1-error:0.29265\tvalidation_1-logloss:0.65077\n",
      "[34]\tvalidation_0-error:0.29470\tvalidation_0-logloss:0.64685\tvalidation_1-error:0.29265\tvalidation_1-logloss:0.64981\n",
      "[35]\tvalidation_0-error:0.29689\tvalidation_0-logloss:0.64583\tvalidation_1-error:0.29528\tvalidation_1-logloss:0.64894\n",
      "[36]\tvalidation_0-error:0.29616\tvalidation_0-logloss:0.64479\tvalidation_1-error:0.29396\tvalidation_1-logloss:0.64795\n",
      "[37]\tvalidation_0-error:0.29631\tvalidation_0-logloss:0.64374\tvalidation_1-error:0.29265\tvalidation_1-logloss:0.64699\n",
      "[38]\tvalidation_0-error:0.29645\tvalidation_0-logloss:0.64274\tvalidation_1-error:0.29265\tvalidation_1-logloss:0.64601\n",
      "[39]\tvalidation_0-error:0.29543\tvalidation_0-logloss:0.64188\tvalidation_1-error:0.29134\tvalidation_1-logloss:0.64520\n",
      "[40]\tvalidation_0-error:0.29631\tvalidation_0-logloss:0.64094\tvalidation_1-error:0.29265\tvalidation_1-logloss:0.64429\n",
      "[41]\tvalidation_0-error:0.29441\tvalidation_0-logloss:0.63994\tvalidation_1-error:0.29134\tvalidation_1-logloss:0.64331\n",
      "[42]\tvalidation_0-error:0.29674\tvalidation_0-logloss:0.63901\tvalidation_1-error:0.29396\tvalidation_1-logloss:0.64252\n",
      "[43]\tvalidation_0-error:0.29660\tvalidation_0-logloss:0.63812\tvalidation_1-error:0.29396\tvalidation_1-logloss:0.64168\n",
      "[44]\tvalidation_0-error:0.29689\tvalidation_0-logloss:0.63724\tvalidation_1-error:0.29396\tvalidation_1-logloss:0.64090\n",
      "[45]\tvalidation_0-error:0.29645\tvalidation_0-logloss:0.63635\tvalidation_1-error:0.29396\tvalidation_1-logloss:0.64011\n",
      "[46]\tvalidation_0-error:0.29616\tvalidation_0-logloss:0.63540\tvalidation_1-error:0.29134\tvalidation_1-logloss:0.63914\n",
      "[47]\tvalidation_0-error:0.29543\tvalidation_0-logloss:0.63453\tvalidation_1-error:0.28871\tvalidation_1-logloss:0.63835\n",
      "[48]\tvalidation_0-error:0.29631\tvalidation_0-logloss:0.63374\tvalidation_1-error:0.28871\tvalidation_1-logloss:0.63759\n",
      "[49]\tvalidation_0-error:0.29514\tvalidation_0-logloss:0.63298\tvalidation_1-error:0.29003\tvalidation_1-logloss:0.63692\n",
      "[50]\tvalidation_0-error:0.29558\tvalidation_0-logloss:0.63227\tvalidation_1-error:0.29003\tvalidation_1-logloss:0.63624\n",
      "[51]\tvalidation_0-error:0.29616\tvalidation_0-logloss:0.63157\tvalidation_1-error:0.29134\tvalidation_1-logloss:0.63563\n",
      "[52]\tvalidation_0-error:0.29499\tvalidation_0-logloss:0.63079\tvalidation_1-error:0.28871\tvalidation_1-logloss:0.63490\n",
      "[53]\tvalidation_0-error:0.29543\tvalidation_0-logloss:0.63009\tvalidation_1-error:0.29003\tvalidation_1-logloss:0.63420\n",
      "[54]\tvalidation_0-error:0.29470\tvalidation_0-logloss:0.62938\tvalidation_1-error:0.28871\tvalidation_1-logloss:0.63355\n",
      "[55]\tvalidation_0-error:0.29543\tvalidation_0-logloss:0.62867\tvalidation_1-error:0.28871\tvalidation_1-logloss:0.63295\n",
      "[56]\tvalidation_0-error:0.29456\tvalidation_0-logloss:0.62787\tvalidation_1-error:0.28871\tvalidation_1-logloss:0.63219\n",
      "[57]\tvalidation_0-error:0.29353\tvalidation_0-logloss:0.62710\tvalidation_1-error:0.28871\tvalidation_1-logloss:0.63145\n",
      "[58]\tvalidation_0-error:0.29237\tvalidation_0-logloss:0.62629\tvalidation_1-error:0.28871\tvalidation_1-logloss:0.63063\n",
      "[59]\tvalidation_0-error:0.29266\tvalidation_0-logloss:0.62564\tvalidation_1-error:0.28871\tvalidation_1-logloss:0.63002\n",
      "[60]\tvalidation_0-error:0.29280\tvalidation_0-logloss:0.62499\tvalidation_1-error:0.29003\tvalidation_1-logloss:0.62939\n",
      "[61]\tvalidation_0-error:0.29266\tvalidation_0-logloss:0.62435\tvalidation_1-error:0.29003\tvalidation_1-logloss:0.62883\n",
      "[62]\tvalidation_0-error:0.29324\tvalidation_0-logloss:0.62361\tvalidation_1-error:0.29396\tvalidation_1-logloss:0.62811\n",
      "[63]\tvalidation_0-error:0.29310\tvalidation_0-logloss:0.62300\tvalidation_1-error:0.29396\tvalidation_1-logloss:0.62760\n",
      "[64]\tvalidation_0-error:0.29280\tvalidation_0-logloss:0.62239\tvalidation_1-error:0.29265\tvalidation_1-logloss:0.62697\n",
      "[65]\tvalidation_0-error:0.29295\tvalidation_0-logloss:0.62167\tvalidation_1-error:0.29265\tvalidation_1-logloss:0.62628\n",
      "[66]\tvalidation_0-error:0.29339\tvalidation_0-logloss:0.62100\tvalidation_1-error:0.29659\tvalidation_1-logloss:0.62569\n",
      "[67]\tvalidation_0-error:0.29339\tvalidation_0-logloss:0.62031\tvalidation_1-error:0.29265\tvalidation_1-logloss:0.62504\n",
      "[68]\tvalidation_0-error:0.29324\tvalidation_0-logloss:0.61969\tvalidation_1-error:0.29528\tvalidation_1-logloss:0.62443\n",
      "[69]\tvalidation_0-error:0.29310\tvalidation_0-logloss:0.61905\tvalidation_1-error:0.29265\tvalidation_1-logloss:0.62382\n",
      "[70]\tvalidation_0-error:0.29266\tvalidation_0-logloss:0.61841\tvalidation_1-error:0.29265\tvalidation_1-logloss:0.62318\n",
      "[71]\tvalidation_0-error:0.29324\tvalidation_0-logloss:0.61783\tvalidation_1-error:0.29265\tvalidation_1-logloss:0.62264\n",
      "[72]\tvalidation_0-error:0.29310\tvalidation_0-logloss:0.61720\tvalidation_1-error:0.29265\tvalidation_1-logloss:0.62213\n",
      "[73]\tvalidation_0-error:0.29310\tvalidation_0-logloss:0.61664\tvalidation_1-error:0.29265\tvalidation_1-logloss:0.62167\n",
      "[74]\tvalidation_0-error:0.29310\tvalidation_0-logloss:0.61602\tvalidation_1-error:0.29265\tvalidation_1-logloss:0.62106\n",
      "[75]\tvalidation_0-error:0.29339\tvalidation_0-logloss:0.61551\tvalidation_1-error:0.29265\tvalidation_1-logloss:0.62060\n",
      "[76]\tvalidation_0-error:0.29324\tvalidation_0-logloss:0.61491\tvalidation_1-error:0.29528\tvalidation_1-logloss:0.62001\n",
      "[77]\tvalidation_0-error:0.29310\tvalidation_0-logloss:0.61430\tvalidation_1-error:0.29265\tvalidation_1-logloss:0.61941\n",
      "[78]\tvalidation_0-error:0.29339\tvalidation_0-logloss:0.61369\tvalidation_1-error:0.29659\tvalidation_1-logloss:0.61881\n",
      "[79]\tvalidation_0-error:0.29310\tvalidation_0-logloss:0.61309\tvalidation_1-error:0.29659\tvalidation_1-logloss:0.61828\n",
      "[80]\tvalidation_0-error:0.29324\tvalidation_0-logloss:0.61250\tvalidation_1-error:0.29659\tvalidation_1-logloss:0.61777\n",
      "[81]\tvalidation_0-error:0.29295\tvalidation_0-logloss:0.61199\tvalidation_1-error:0.29528\tvalidation_1-logloss:0.61735\n",
      "[82]\tvalidation_0-error:0.29266\tvalidation_0-logloss:0.61146\tvalidation_1-error:0.29528\tvalidation_1-logloss:0.61688\n",
      "[83]\tvalidation_0-error:0.29280\tvalidation_0-logloss:0.61099\tvalidation_1-error:0.29528\tvalidation_1-logloss:0.61637\n",
      "[84]\tvalidation_0-error:0.29280\tvalidation_0-logloss:0.61046\tvalidation_1-error:0.29528\tvalidation_1-logloss:0.61591\n",
      "[85]\tvalidation_0-error:0.29310\tvalidation_0-logloss:0.60990\tvalidation_1-error:0.29528\tvalidation_1-logloss:0.61535\n",
      "[86]\tvalidation_0-error:0.29295\tvalidation_0-logloss:0.60944\tvalidation_1-error:0.29528\tvalidation_1-logloss:0.61493\n",
      "[87]\tvalidation_0-error:0.29295\tvalidation_0-logloss:0.60901\tvalidation_1-error:0.29528\tvalidation_1-logloss:0.61454\n"
     ]
    },
    {
     "name": "stdout",
     "output_type": "stream",
     "text": [
      "[88]\tvalidation_0-error:0.29310\tvalidation_0-logloss:0.60854\tvalidation_1-error:0.29528\tvalidation_1-logloss:0.61410\n",
      "[89]\tvalidation_0-error:0.29368\tvalidation_0-logloss:0.60808\tvalidation_1-error:0.29528\tvalidation_1-logloss:0.61367\n",
      "[90]\tvalidation_0-error:0.29310\tvalidation_0-logloss:0.60760\tvalidation_1-error:0.29134\tvalidation_1-logloss:0.61321\n",
      "[91]\tvalidation_0-error:0.29295\tvalidation_0-logloss:0.60710\tvalidation_1-error:0.29396\tvalidation_1-logloss:0.61274\n",
      "[92]\tvalidation_0-error:0.29295\tvalidation_0-logloss:0.60670\tvalidation_1-error:0.29134\tvalidation_1-logloss:0.61239\n",
      "[93]\tvalidation_0-error:0.29295\tvalidation_0-logloss:0.60629\tvalidation_1-error:0.29003\tvalidation_1-logloss:0.61201\n",
      "[94]\tvalidation_0-error:0.29295\tvalidation_0-logloss:0.60577\tvalidation_1-error:0.29134\tvalidation_1-logloss:0.61156\n",
      "[95]\tvalidation_0-error:0.29295\tvalidation_0-logloss:0.60536\tvalidation_1-error:0.29134\tvalidation_1-logloss:0.61122\n",
      "[96]\tvalidation_0-error:0.29280\tvalidation_0-logloss:0.60497\tvalidation_1-error:0.29003\tvalidation_1-logloss:0.61086\n",
      "[97]\tvalidation_0-error:0.29295\tvalidation_0-logloss:0.60451\tvalidation_1-error:0.29134\tvalidation_1-logloss:0.61044\n",
      "[98]\tvalidation_0-error:0.29295\tvalidation_0-logloss:0.60405\tvalidation_1-error:0.28871\tvalidation_1-logloss:0.61004\n",
      "[99]\tvalidation_0-error:0.29266\tvalidation_0-logloss:0.60366\tvalidation_1-error:0.28871\tvalidation_1-logloss:0.60972\n",
      "[100]\tvalidation_0-error:0.29324\tvalidation_0-logloss:0.60330\tvalidation_1-error:0.29003\tvalidation_1-logloss:0.60935\n",
      "[101]\tvalidation_0-error:0.29310\tvalidation_0-logloss:0.60285\tvalidation_1-error:0.29396\tvalidation_1-logloss:0.60884\n",
      "[102]\tvalidation_0-error:0.29266\tvalidation_0-logloss:0.60238\tvalidation_1-error:0.29659\tvalidation_1-logloss:0.60851\n",
      "[103]\tvalidation_0-error:0.29237\tvalidation_0-logloss:0.60189\tvalidation_1-error:0.29790\tvalidation_1-logloss:0.60806\n",
      "[104]\tvalidation_0-error:0.29251\tvalidation_0-logloss:0.60154\tvalidation_1-error:0.29790\tvalidation_1-logloss:0.60778\n",
      "[105]\tvalidation_0-error:0.29207\tvalidation_0-logloss:0.60111\tvalidation_1-error:0.29790\tvalidation_1-logloss:0.60742\n",
      "[106]\tvalidation_0-error:0.29207\tvalidation_0-logloss:0.60067\tvalidation_1-error:0.29790\tvalidation_1-logloss:0.60704\n",
      "[107]\tvalidation_0-error:0.29193\tvalidation_0-logloss:0.60023\tvalidation_1-error:0.29528\tvalidation_1-logloss:0.60663\n",
      "[108]\tvalidation_0-error:0.29207\tvalidation_0-logloss:0.59986\tvalidation_1-error:0.29528\tvalidation_1-logloss:0.60623\n",
      "[109]\tvalidation_0-error:0.29222\tvalidation_0-logloss:0.59948\tvalidation_1-error:0.29528\tvalidation_1-logloss:0.60585\n",
      "[110]\tvalidation_0-error:0.29222\tvalidation_0-logloss:0.59905\tvalidation_1-error:0.29528\tvalidation_1-logloss:0.60545\n",
      "[111]\tvalidation_0-error:0.29193\tvalidation_0-logloss:0.59862\tvalidation_1-error:0.29528\tvalidation_1-logloss:0.60503\n",
      "[112]\tvalidation_0-error:0.29178\tvalidation_0-logloss:0.59816\tvalidation_1-error:0.29528\tvalidation_1-logloss:0.60458\n",
      "[113]\tvalidation_0-error:0.29222\tvalidation_0-logloss:0.59778\tvalidation_1-error:0.29528\tvalidation_1-logloss:0.60418\n",
      "[114]\tvalidation_0-error:0.29222\tvalidation_0-logloss:0.59748\tvalidation_1-error:0.29528\tvalidation_1-logloss:0.60392\n",
      "[115]\tvalidation_0-error:0.29193\tvalidation_0-logloss:0.59715\tvalidation_1-error:0.29528\tvalidation_1-logloss:0.60362\n",
      "[116]\tvalidation_0-error:0.29251\tvalidation_0-logloss:0.59682\tvalidation_1-error:0.29659\tvalidation_1-logloss:0.60335\n",
      "[117]\tvalidation_0-error:0.29280\tvalidation_0-logloss:0.59642\tvalidation_1-error:0.29659\tvalidation_1-logloss:0.60294\n",
      "[118]\tvalidation_0-error:0.29310\tvalidation_0-logloss:0.59613\tvalidation_1-error:0.29528\tvalidation_1-logloss:0.60266\n",
      "[119]\tvalidation_0-error:0.29134\tvalidation_0-logloss:0.59577\tvalidation_1-error:0.29528\tvalidation_1-logloss:0.60223\n",
      "[120]\tvalidation_0-error:0.29237\tvalidation_0-logloss:0.59537\tvalidation_1-error:0.29396\tvalidation_1-logloss:0.60183\n",
      "[121]\tvalidation_0-error:0.29178\tvalidation_0-logloss:0.59501\tvalidation_1-error:0.29528\tvalidation_1-logloss:0.60147\n",
      "[122]\tvalidation_0-error:0.29251\tvalidation_0-logloss:0.59462\tvalidation_1-error:0.29528\tvalidation_1-logloss:0.60109\n",
      "[123]\tvalidation_0-error:0.29266\tvalidation_0-logloss:0.59433\tvalidation_1-error:0.29528\tvalidation_1-logloss:0.60082\n",
      "[124]\tvalidation_0-error:0.29149\tvalidation_0-logloss:0.59397\tvalidation_1-error:0.29528\tvalidation_1-logloss:0.60051\n",
      "[125]\tvalidation_0-error:0.29149\tvalidation_0-logloss:0.59368\tvalidation_1-error:0.29396\tvalidation_1-logloss:0.60031\n",
      "[126]\tvalidation_0-error:0.29120\tvalidation_0-logloss:0.59333\tvalidation_1-error:0.29396\tvalidation_1-logloss:0.60004\n",
      "[127]\tvalidation_0-error:0.29120\tvalidation_0-logloss:0.59303\tvalidation_1-error:0.29265\tvalidation_1-logloss:0.59974\n",
      "[128]\tvalidation_0-error:0.29149\tvalidation_0-logloss:0.59264\tvalidation_1-error:0.29265\tvalidation_1-logloss:0.59942\n",
      "[129]\tvalidation_0-error:0.29207\tvalidation_0-logloss:0.59228\tvalidation_1-error:0.29265\tvalidation_1-logloss:0.59909\n",
      "[130]\tvalidation_0-error:0.29222\tvalidation_0-logloss:0.59189\tvalidation_1-error:0.29396\tvalidation_1-logloss:0.59873\n",
      "[131]\tvalidation_0-error:0.29207\tvalidation_0-logloss:0.59166\tvalidation_1-error:0.29265\tvalidation_1-logloss:0.59855\n",
      "[132]\tvalidation_0-error:0.29251\tvalidation_0-logloss:0.59130\tvalidation_1-error:0.29396\tvalidation_1-logloss:0.59822\n",
      "[133]\tvalidation_0-error:0.29266\tvalidation_0-logloss:0.59107\tvalidation_1-error:0.29396\tvalidation_1-logloss:0.59802\n",
      "[134]\tvalidation_0-error:0.29280\tvalidation_0-logloss:0.59083\tvalidation_1-error:0.29396\tvalidation_1-logloss:0.59778\n",
      "[135]\tvalidation_0-error:0.29266\tvalidation_0-logloss:0.59049\tvalidation_1-error:0.29396\tvalidation_1-logloss:0.59750\n",
      "[136]\tvalidation_0-error:0.29266\tvalidation_0-logloss:0.59015\tvalidation_1-error:0.29396\tvalidation_1-logloss:0.59714\n",
      "[137]\tvalidation_0-error:0.29280\tvalidation_0-logloss:0.58982\tvalidation_1-error:0.29396\tvalidation_1-logloss:0.59693\n",
      "[138]\tvalidation_0-error:0.29266\tvalidation_0-logloss:0.58951\tvalidation_1-error:0.29396\tvalidation_1-logloss:0.59666\n",
      "[139]\tvalidation_0-error:0.29280\tvalidation_0-logloss:0.58928\tvalidation_1-error:0.29396\tvalidation_1-logloss:0.59637\n",
      "[140]\tvalidation_0-error:0.29280\tvalidation_0-logloss:0.58905\tvalidation_1-error:0.29396\tvalidation_1-logloss:0.59619\n",
      "[141]\tvalidation_0-error:0.29251\tvalidation_0-logloss:0.58876\tvalidation_1-error:0.29396\tvalidation_1-logloss:0.59589\n",
      "[142]\tvalidation_0-error:0.29280\tvalidation_0-logloss:0.58842\tvalidation_1-error:0.29396\tvalidation_1-logloss:0.59559\n",
      "[143]\tvalidation_0-error:0.29280\tvalidation_0-logloss:0.58810\tvalidation_1-error:0.29396\tvalidation_1-logloss:0.59530\n",
      "[144]\tvalidation_0-error:0.29295\tvalidation_0-logloss:0.58778\tvalidation_1-error:0.29528\tvalidation_1-logloss:0.59495\n",
      "[145]\tvalidation_0-error:0.29222\tvalidation_0-logloss:0.58755\tvalidation_1-error:0.29528\tvalidation_1-logloss:0.59476\n",
      "[146]\tvalidation_0-error:0.29178\tvalidation_0-logloss:0.58730\tvalidation_1-error:0.29528\tvalidation_1-logloss:0.59454\n",
      "[147]\tvalidation_0-error:0.29193\tvalidation_0-logloss:0.58701\tvalidation_1-error:0.29528\tvalidation_1-logloss:0.59434\n",
      "[148]\tvalidation_0-error:0.29149\tvalidation_0-logloss:0.58671\tvalidation_1-error:0.29396\tvalidation_1-logloss:0.59399\n",
      "[149]\tvalidation_0-error:0.29120\tvalidation_0-logloss:0.58640\tvalidation_1-error:0.29528\tvalidation_1-logloss:0.59368\n",
      "[150]\tvalidation_0-error:0.29076\tvalidation_0-logloss:0.58613\tvalidation_1-error:0.29528\tvalidation_1-logloss:0.59344\n",
      "[151]\tvalidation_0-error:0.29149\tvalidation_0-logloss:0.58594\tvalidation_1-error:0.29528\tvalidation_1-logloss:0.59325\n",
      "[152]\tvalidation_0-error:0.29134\tvalidation_0-logloss:0.58567\tvalidation_1-error:0.29528\tvalidation_1-logloss:0.59303\n",
      "[153]\tvalidation_0-error:0.29062\tvalidation_0-logloss:0.58537\tvalidation_1-error:0.29528\tvalidation_1-logloss:0.59277\n",
      "[154]\tvalidation_0-error:0.29076\tvalidation_0-logloss:0.58510\tvalidation_1-error:0.29528\tvalidation_1-logloss:0.59256\n",
      "[155]\tvalidation_0-error:0.29178\tvalidation_0-logloss:0.58492\tvalidation_1-error:0.29528\tvalidation_1-logloss:0.59241\n",
      "[156]\tvalidation_0-error:0.29076\tvalidation_0-logloss:0.58467\tvalidation_1-error:0.29528\tvalidation_1-logloss:0.59221\n",
      "[157]\tvalidation_0-error:0.29091\tvalidation_0-logloss:0.58444\tvalidation_1-error:0.29396\tvalidation_1-logloss:0.59202\n"
     ]
    },
    {
     "name": "stdout",
     "output_type": "stream",
     "text": [
      "[158]\tvalidation_0-error:0.28989\tvalidation_0-logloss:0.58414\tvalidation_1-error:0.29396\tvalidation_1-logloss:0.59176\n",
      "[159]\tvalidation_0-error:0.28989\tvalidation_0-logloss:0.58393\tvalidation_1-error:0.29396\tvalidation_1-logloss:0.59159\n",
      "[160]\tvalidation_0-error:0.28974\tvalidation_0-logloss:0.58370\tvalidation_1-error:0.29396\tvalidation_1-logloss:0.59135\n",
      "[161]\tvalidation_0-error:0.28945\tvalidation_0-logloss:0.58345\tvalidation_1-error:0.29396\tvalidation_1-logloss:0.59115\n",
      "[162]\tvalidation_0-error:0.28959\tvalidation_0-logloss:0.58325\tvalidation_1-error:0.29396\tvalidation_1-logloss:0.59094\n",
      "[163]\tvalidation_0-error:0.28930\tvalidation_0-logloss:0.58300\tvalidation_1-error:0.29396\tvalidation_1-logloss:0.59071\n",
      "[164]\tvalidation_0-error:0.28915\tvalidation_0-logloss:0.58274\tvalidation_1-error:0.29396\tvalidation_1-logloss:0.59046\n",
      "[165]\tvalidation_0-error:0.28901\tvalidation_0-logloss:0.58250\tvalidation_1-error:0.29396\tvalidation_1-logloss:0.59034\n",
      "[166]\tvalidation_0-error:0.28915\tvalidation_0-logloss:0.58228\tvalidation_1-error:0.29396\tvalidation_1-logloss:0.59014\n",
      "[167]\tvalidation_0-error:0.28901\tvalidation_0-logloss:0.58204\tvalidation_1-error:0.29396\tvalidation_1-logloss:0.58994\n",
      "[168]\tvalidation_0-error:0.28915\tvalidation_0-logloss:0.58180\tvalidation_1-error:0.29528\tvalidation_1-logloss:0.58973\n",
      "[169]\tvalidation_0-error:0.28886\tvalidation_0-logloss:0.58157\tvalidation_1-error:0.29659\tvalidation_1-logloss:0.58952\n",
      "[170]\tvalidation_0-error:0.28886\tvalidation_0-logloss:0.58139\tvalidation_1-error:0.29659\tvalidation_1-logloss:0.58938\n",
      "[171]\tvalidation_0-error:0.28886\tvalidation_0-logloss:0.58115\tvalidation_1-error:0.29659\tvalidation_1-logloss:0.58916\n",
      "[172]\tvalidation_0-error:0.28872\tvalidation_0-logloss:0.58099\tvalidation_1-error:0.29528\tvalidation_1-logloss:0.58904\n",
      "[173]\tvalidation_0-error:0.28872\tvalidation_0-logloss:0.58081\tvalidation_1-error:0.29528\tvalidation_1-logloss:0.58890\n",
      "[174]\tvalidation_0-error:0.28828\tvalidation_0-logloss:0.58057\tvalidation_1-error:0.29528\tvalidation_1-logloss:0.58868\n",
      "[175]\tvalidation_0-error:0.28784\tvalidation_0-logloss:0.58032\tvalidation_1-error:0.29528\tvalidation_1-logloss:0.58850\n",
      "[176]\tvalidation_0-error:0.28828\tvalidation_0-logloss:0.58010\tvalidation_1-error:0.29659\tvalidation_1-logloss:0.58827\n",
      "[177]\tvalidation_0-error:0.28799\tvalidation_0-logloss:0.57994\tvalidation_1-error:0.29659\tvalidation_1-logloss:0.58814\n",
      "[178]\tvalidation_0-error:0.28769\tvalidation_0-logloss:0.57977\tvalidation_1-error:0.29528\tvalidation_1-logloss:0.58798\n",
      "[179]\tvalidation_0-error:0.28784\tvalidation_0-logloss:0.57964\tvalidation_1-error:0.29528\tvalidation_1-logloss:0.58786\n",
      "[180]\tvalidation_0-error:0.28769\tvalidation_0-logloss:0.57950\tvalidation_1-error:0.29528\tvalidation_1-logloss:0.58777\n",
      "[181]\tvalidation_0-error:0.28755\tvalidation_0-logloss:0.57934\tvalidation_1-error:0.29528\tvalidation_1-logloss:0.58764\n",
      "[182]\tvalidation_0-error:0.28755\tvalidation_0-logloss:0.57912\tvalidation_1-error:0.29528\tvalidation_1-logloss:0.58743\n",
      "[183]\tvalidation_0-error:0.28755\tvalidation_0-logloss:0.57899\tvalidation_1-error:0.29528\tvalidation_1-logloss:0.58729\n",
      "[184]\tvalidation_0-error:0.28740\tvalidation_0-logloss:0.57886\tvalidation_1-error:0.29528\tvalidation_1-logloss:0.58727\n",
      "[185]\tvalidation_0-error:0.28769\tvalidation_0-logloss:0.57866\tvalidation_1-error:0.29528\tvalidation_1-logloss:0.58709\n",
      "[186]\tvalidation_0-error:0.28799\tvalidation_0-logloss:0.57845\tvalidation_1-error:0.29528\tvalidation_1-logloss:0.58689\n",
      "[187]\tvalidation_0-error:0.28799\tvalidation_0-logloss:0.57830\tvalidation_1-error:0.29528\tvalidation_1-logloss:0.58678\n",
      "[188]\tvalidation_0-error:0.28813\tvalidation_0-logloss:0.57815\tvalidation_1-error:0.29659\tvalidation_1-logloss:0.58667\n",
      "[189]\tvalidation_0-error:0.28755\tvalidation_0-logloss:0.57797\tvalidation_1-error:0.29528\tvalidation_1-logloss:0.58660\n",
      "[190]\tvalidation_0-error:0.28740\tvalidation_0-logloss:0.57784\tvalidation_1-error:0.29265\tvalidation_1-logloss:0.58653\n",
      "[191]\tvalidation_0-error:0.28755\tvalidation_0-logloss:0.57769\tvalidation_1-error:0.29528\tvalidation_1-logloss:0.58644\n",
      "[192]\tvalidation_0-error:0.28755\tvalidation_0-logloss:0.57750\tvalidation_1-error:0.29528\tvalidation_1-logloss:0.58629\n",
      "[193]\tvalidation_0-error:0.28740\tvalidation_0-logloss:0.57734\tvalidation_1-error:0.29528\tvalidation_1-logloss:0.58615\n",
      "[194]\tvalidation_0-error:0.28711\tvalidation_0-logloss:0.57714\tvalidation_1-error:0.29265\tvalidation_1-logloss:0.58601\n",
      "[195]\tvalidation_0-error:0.28755\tvalidation_0-logloss:0.57700\tvalidation_1-error:0.29265\tvalidation_1-logloss:0.58593\n",
      "[196]\tvalidation_0-error:0.28711\tvalidation_0-logloss:0.57680\tvalidation_1-error:0.29265\tvalidation_1-logloss:0.58577\n",
      "[197]\tvalidation_0-error:0.28740\tvalidation_0-logloss:0.57668\tvalidation_1-error:0.29528\tvalidation_1-logloss:0.58571\n",
      "[198]\tvalidation_0-error:0.28755\tvalidation_0-logloss:0.57654\tvalidation_1-error:0.29659\tvalidation_1-logloss:0.58564\n",
      "[199]\tvalidation_0-error:0.28697\tvalidation_0-logloss:0.57636\tvalidation_1-error:0.29528\tvalidation_1-logloss:0.58547\n",
      "CPU times: user 3.51 s, sys: 194 ms, total: 3.7 s\n",
      "Wall time: 1.86 s\n"
     ]
    },
    {
     "data": {
      "text/plain": [
       "XGBClassifier(base_score=0.5, booster='gbtree', colsample_bylevel=1,\n",
       "              colsample_bynode=1, colsample_bytree=1, gamma=0, gpu_id=-1,\n",
       "              importance_type='gain', interaction_constraints='',\n",
       "              learning_rate=0.01, max_delta_step=0, max_depth=4,\n",
       "              min_child_weight=1, missing=nan, monotone_constraints='()',\n",
       "              n_estimators=200, n_jobs=4, num_parallel_tree=1, random_state=0,\n",
       "              reg_alpha=0, reg_lambda=1, scale_pos_weight=1, subsample=0.9,\n",
       "              tree_method='exact', validate_parameters=1, verbosity=None)"
      ]
     },
     "execution_count": 83,
     "metadata": {},
     "output_type": "execute_result"
    }
   ],
   "source": [
    "%%time\n",
    "\n",
    "xgb_model = xgb.XGBClassifier(max_depth=4,\n",
    "                        subsample=0.9,\n",
    "                        objective='binary:logistic',\n",
    "                        n_estimators=200,\n",
    "                        learning_rate = 0.01)\n",
    "eval_set = [(train_X, train_Y), (test_X, test_Y)]\n",
    "xgb_model.fit(train_X, train_Y.ravel(), early_stopping_rounds=10, eval_metric=[\"error\", \"logloss\"], eval_set=eval_set, verbose=True)\n",
    "\n"
   ]
  },
  {
   "cell_type": "code",
   "execution_count": 84,
   "id": "informed-dependence",
   "metadata": {},
   "outputs": [
    {
     "name": "stdout",
     "output_type": "stream",
     "text": [
      "Accuracy: 70.47%\n"
     ]
    }
   ],
   "source": [
    "# make predictions for test data\n",
    "y_pred = xgb_model.predict(test_X)\n",
    "predictions = [round(value) for value in y_pred]\n",
    "# evaluate predictions\n",
    "accuracy = accuracy_score(test_Y, predictions)\n",
    "print(\"Accuracy: %.2f%%\" % (accuracy * 100.0))"
   ]
  },
  {
   "cell_type": "code",
   "execution_count": 85,
   "id": "partial-church",
   "metadata": {},
   "outputs": [],
   "source": [
    "test_negativity_score = test_dataset['text'].apply(negative_score)"
   ]
  },
  {
   "cell_type": "code",
   "execution_count": 86,
   "id": "designed-keeping",
   "metadata": {},
   "outputs": [],
   "source": [
    "y_test_pred = xgb_model.predict(np.vstack(test_negativity_score))"
   ]
  },
  {
   "cell_type": "code",
   "execution_count": 87,
   "id": "judicial-black",
   "metadata": {},
   "outputs": [
    {
     "data": {
      "text/plain": [
       "array([0, 0, 0, ..., 1, 1, 0])"
      ]
     },
     "execution_count": 87,
     "metadata": {},
     "output_type": "execute_result"
    }
   ],
   "source": [
    "y_test_pred"
   ]
  },
  {
   "cell_type": "code",
   "execution_count": 88,
   "id": "political-upper",
   "metadata": {},
   "outputs": [],
   "source": [
    "y_test_id = test_dataset['id']"
   ]
  },
  {
   "cell_type": "code",
   "execution_count": 89,
   "id": "worthy-topic",
   "metadata": {},
   "outputs": [],
   "source": [
    "data = [y_test_id, pd.Series(y_test_pred)]\n",
    "headers = [\"id\", \"target\"]\n",
    "submission = pd.concat(data, axis=1, keys=headers)"
   ]
  },
  {
   "cell_type": "code",
   "execution_count": 90,
   "id": "fresh-integrity",
   "metadata": {},
   "outputs": [],
   "source": [
    "submission.to_csv('submission.csv', index=False)"
   ]
  },
  {
   "cell_type": "code",
   "execution_count": null,
   "id": "progressive-kruger",
   "metadata": {},
   "outputs": [],
   "source": []
  }
 ],
 "metadata": {
  "kernelspec": {
   "display_name": "Python 3",
   "language": "python",
   "name": "python3"
  },
  "language_info": {
   "codemirror_mode": {
    "name": "ipython",
    "version": 3
   },
   "file_extension": ".py",
   "mimetype": "text/x-python",
   "name": "python",
   "nbconvert_exporter": "python",
   "pygments_lexer": "ipython3",
   "version": "3.9.1"
  }
 },
 "nbformat": 4,
 "nbformat_minor": 5
}
