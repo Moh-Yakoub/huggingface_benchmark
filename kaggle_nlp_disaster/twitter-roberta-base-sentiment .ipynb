{
 "cells": [
  {
   "cell_type": "code",
   "execution_count": 91,
   "id": "assigned-occasions",
   "metadata": {},
   "outputs": [],
   "source": [
    "from transformers import AutoModelForSequenceClassification\n",
    "from transformers import TFAutoModelForSequenceClassification\n",
    "from transformers import AutoTokenizer\n",
    "from scipy.special import softmax\n",
    "import csv\n",
    "import urllib.request\n"
   ]
  },
  {
   "cell_type": "code",
   "execution_count": 92,
   "id": "intense-affect",
   "metadata": {},
   "outputs": [],
   "source": [
    "# Preprocess text (username and link placeholders)\n",
    "def preprocess(text):\n",
    "    new_text = []\n",
    "\n",
    "\n",
    "    for t in text.split(\" \"):\n",
    "        t = '@user' if t.startswith('@') and len(t) > 1 else t\n",
    "        t = 'http' if t.startswith('http') else t\n",
    "        new_text.append(t)\n",
    "    return \" \".join(new_text)"
   ]
  },
  {
   "cell_type": "code",
   "execution_count": 110,
   "id": "brilliant-rocket",
   "metadata": {},
   "outputs": [
    {
     "data": {
      "application/vnd.jupyter.widget-view+json": {
       "model_id": "a2d4267764074377a2a2c527a288b235",
       "version_major": 2,
       "version_minor": 0
      },
      "text/plain": [
       "Downloading:   0%|          | 0.00/779 [00:00<?, ?B/s]"
      ]
     },
     "metadata": {},
     "output_type": "display_data"
    },
    {
     "data": {
      "application/vnd.jupyter.widget-view+json": {
       "model_id": "917a90986f084b95a8783a560ed5b0b9",
       "version_major": 2,
       "version_minor": 0
      },
      "text/plain": [
       "Downloading:   0%|          | 0.00/499M [00:00<?, ?B/s]"
      ]
     },
     "metadata": {},
     "output_type": "display_data"
    }
   ],
   "source": [
    "# Tasks:\n",
    "# emoji, emotion, hate, irony, offensive, sentiment\n",
    "# stance/abortion, stance/atheism, stance/climate, stance/feminist, stance/hillary\n",
    "\n",
    "task='sentiment'\n",
    "emotion_task='emotion'\n",
    "MODEL = f\"cardiffnlp/twitter-roberta-base-{task}\"\n",
    "MODEL_EMOTION = f\"cardiffnlp/twitter-roberta-base-{emotion_task}\"\n",
    "\n",
    "\n",
    "tokenizer = AutoTokenizer.from_pretrained(MODEL)\n",
    "\n",
    "# download label mapping\n",
    "labels=[]\n",
    "mapping_link = f\"https://raw.githubusercontent.com/cardiffnlp/tweeteval/main/datasets/{task}/mapping.txt\"\n",
    "with urllib.request.urlopen(mapping_link) as f:\n",
    "    html = f.read().decode('utf-8').split(\"\\n\")\n",
    "    csvreader = csv.reader(html, delimiter='\\t')\n",
    "labels = [row[1] for row in csvreader if len(row) > 1]\n",
    "\n",
    "# PT\n",
    "model = AutoModelForSequenceClassification.from_pretrained(MODEL)\n",
    "model.save_pretrained(MODEL)\n",
    "\n",
    "model_emotion = AutoModelForSequenceClassification.from_pretrained(MODEL_EMOTION)\n",
    "model_emotion.save_pretrained(MODEL)\n"
   ]
  },
  {
   "cell_type": "code",
   "execution_count": 111,
   "id": "occasional-bridges",
   "metadata": {},
   "outputs": [],
   "source": [
    "def negative_score(text):\n",
    "#     text = preprocess(text)\n",
    "    encoded_input = tokenizer(text, return_tensors='pt')\n",
    "    output = model(**encoded_input)\n",
    "    output_emotions = model_emotion(**encoded_input)\n",
    "    scores = output[0][0].detach().numpy()\n",
    "    scores_emotions = output_emotions[0][0].detach().numpy()\n",
    "    scores = softmax(scores)\n",
    "    scores_emotions = softmax(scores_emotions)\n",
    "    return np.concatenate((scores, scores_emotions))"
   ]
  },
  {
   "cell_type": "code",
   "execution_count": 112,
   "id": "valued-cambridge",
   "metadata": {},
   "outputs": [],
   "source": [
    "import pandas as pd"
   ]
  },
  {
   "cell_type": "code",
   "execution_count": 113,
   "id": "located-advertiser",
   "metadata": {},
   "outputs": [],
   "source": [
    "train_dataset = pd.read_csv('./train.csv')\n",
    "test_dataset = pd.read_csv('./test.csv')"
   ]
  },
  {
   "cell_type": "code",
   "execution_count": 114,
   "id": "incomplete-yesterday",
   "metadata": {},
   "outputs": [
    {
     "data": {
      "text/html": [
       "<div>\n",
       "<style scoped>\n",
       "    .dataframe tbody tr th:only-of-type {\n",
       "        vertical-align: middle;\n",
       "    }\n",
       "\n",
       "    .dataframe tbody tr th {\n",
       "        vertical-align: top;\n",
       "    }\n",
       "\n",
       "    .dataframe thead th {\n",
       "        text-align: right;\n",
       "    }\n",
       "</style>\n",
       "<table border=\"1\" class=\"dataframe\">\n",
       "  <thead>\n",
       "    <tr style=\"text-align: right;\">\n",
       "      <th></th>\n",
       "      <th>id</th>\n",
       "      <th>keyword</th>\n",
       "      <th>location</th>\n",
       "      <th>text</th>\n",
       "      <th>target</th>\n",
       "    </tr>\n",
       "  </thead>\n",
       "  <tbody>\n",
       "    <tr>\n",
       "      <th>0</th>\n",
       "      <td>1</td>\n",
       "      <td>NaN</td>\n",
       "      <td>NaN</td>\n",
       "      <td>Our Deeds are the Reason of this #earthquake M...</td>\n",
       "      <td>1</td>\n",
       "    </tr>\n",
       "    <tr>\n",
       "      <th>1</th>\n",
       "      <td>4</td>\n",
       "      <td>NaN</td>\n",
       "      <td>NaN</td>\n",
       "      <td>Forest fire near La Ronge Sask. Canada</td>\n",
       "      <td>1</td>\n",
       "    </tr>\n",
       "    <tr>\n",
       "      <th>2</th>\n",
       "      <td>5</td>\n",
       "      <td>NaN</td>\n",
       "      <td>NaN</td>\n",
       "      <td>All residents asked to 'shelter in place' are ...</td>\n",
       "      <td>1</td>\n",
       "    </tr>\n",
       "    <tr>\n",
       "      <th>3</th>\n",
       "      <td>6</td>\n",
       "      <td>NaN</td>\n",
       "      <td>NaN</td>\n",
       "      <td>13,000 people receive #wildfires evacuation or...</td>\n",
       "      <td>1</td>\n",
       "    </tr>\n",
       "    <tr>\n",
       "      <th>4</th>\n",
       "      <td>7</td>\n",
       "      <td>NaN</td>\n",
       "      <td>NaN</td>\n",
       "      <td>Just got sent this photo from Ruby #Alaska as ...</td>\n",
       "      <td>1</td>\n",
       "    </tr>\n",
       "  </tbody>\n",
       "</table>\n",
       "</div>"
      ],
      "text/plain": [
       "   id keyword location                                               text  \\\n",
       "0   1     NaN      NaN  Our Deeds are the Reason of this #earthquake M...   \n",
       "1   4     NaN      NaN             Forest fire near La Ronge Sask. Canada   \n",
       "2   5     NaN      NaN  All residents asked to 'shelter in place' are ...   \n",
       "3   6     NaN      NaN  13,000 people receive #wildfires evacuation or...   \n",
       "4   7     NaN      NaN  Just got sent this photo from Ruby #Alaska as ...   \n",
       "\n",
       "   target  \n",
       "0       1  \n",
       "1       1  \n",
       "2       1  \n",
       "3       1  \n",
       "4       1  "
      ]
     },
     "execution_count": 114,
     "metadata": {},
     "output_type": "execute_result"
    }
   ],
   "source": [
    "train_dataset.head()"
   ]
  },
  {
   "cell_type": "code",
   "execution_count": 115,
   "id": "hairy-volunteer",
   "metadata": {},
   "outputs": [
    {
     "data": {
      "text/plain": [
       "0"
      ]
     },
     "execution_count": 115,
     "metadata": {},
     "output_type": "execute_result"
    }
   ],
   "source": [
    "train_dataset['text'].isnull().sum()"
   ]
  },
  {
   "cell_type": "code",
   "execution_count": 116,
   "id": "russian-advocacy",
   "metadata": {},
   "outputs": [],
   "source": [
    "negativity_score = train_dataset['text'].apply(negative_score)"
   ]
  },
  {
   "cell_type": "code",
   "execution_count": 118,
   "id": "cathedral-hungarian",
   "metadata": {},
   "outputs": [
    {
     "data": {
      "text/plain": [
       "0       [0.04231138, 0.5765478, 0.3811407, 0.11996135,...\n",
       "1       [0.3379307, 0.635805, 0.026264267, 0.28351602,...\n",
       "2       [0.13055776, 0.82776093, 0.04168123, 0.5969902...\n",
       "3       [0.27099624, 0.6886033, 0.040400457, 0.2607433...\n",
       "4       [0.55991334, 0.41471392, 0.025372643, 0.153450...\n",
       "                              ...                        \n",
       "7608    [0.3346446, 0.6204224, 0.04493301, 0.12285043,...\n",
       "7609    [0.8883374, 0.10528578, 0.0063767442, 0.393966...\n",
       "7610    [0.090089135, 0.8770295, 0.032881506, 0.294406...\n",
       "7611    [0.596613, 0.36611944, 0.037267584, 0.13641186...\n",
       "7612    [0.40408504, 0.57197434, 0.023940641, 0.184390...\n",
       "Name: text, Length: 7613, dtype: object"
      ]
     },
     "execution_count": 118,
     "metadata": {},
     "output_type": "execute_result"
    }
   ],
   "source": [
    "negativity_score"
   ]
  },
  {
   "cell_type": "code",
   "execution_count": 119,
   "id": "introductory-carter",
   "metadata": {},
   "outputs": [],
   "source": [
    "from sklearn.model_selection import train_test_split\n",
    "import xgboost as xgb\n",
    "from sklearn.metrics import accuracy_score\n",
    "import numpy as np"
   ]
  },
  {
   "cell_type": "code",
   "execution_count": 120,
   "id": "binary-cycling",
   "metadata": {},
   "outputs": [
    {
     "name": "stdout",
     "output_type": "stream",
     "text": [
      "((7613, 7), (7613, 1))\n"
     ]
    }
   ],
   "source": [
    "X = np.vstack(negativity_score)\n",
    "Y = np.vstack(train_dataset['target'])\n",
    "train_X, test_X, train_Y, test_Y = train_test_split(X, Y, test_size=0.1, stratify=Y, random_state=0)\n",
    "print((X.shape, Y.shape))"
   ]
  },
  {
   "cell_type": "code",
   "execution_count": 121,
   "id": "exempt-capacity",
   "metadata": {},
   "outputs": [
    {
     "name": "stdout",
     "output_type": "stream",
     "text": [
      "[0]\tvalidation_0-error:0.28594\tvalidation_0-logloss:0.69090\tvalidation_1-error:0.27165\tvalidation_1-logloss:0.69081\n",
      "[1]\tvalidation_0-error:0.28142\tvalidation_0-logloss:0.68873\tvalidation_1-error:0.27559\tvalidation_1-logloss:0.68853\n",
      "[2]\tvalidation_0-error:0.28113\tvalidation_0-logloss:0.68658\tvalidation_1-error:0.27559\tvalidation_1-logloss:0.68624\n",
      "[3]\tvalidation_0-error:0.27923\tvalidation_0-logloss:0.68450\tvalidation_1-error:0.26772\tvalidation_1-logloss:0.68405\n",
      "[4]\tvalidation_0-error:0.27952\tvalidation_0-logloss:0.68244\tvalidation_1-error:0.26509\tvalidation_1-logloss:0.68190\n",
      "[5]\tvalidation_0-error:0.27894\tvalidation_0-logloss:0.68036\tvalidation_1-error:0.26378\tvalidation_1-logloss:0.67975\n",
      "[6]\tvalidation_0-error:0.28186\tvalidation_0-logloss:0.67834\tvalidation_1-error:0.26116\tvalidation_1-logloss:0.67762\n",
      "[7]\tvalidation_0-error:0.28054\tvalidation_0-logloss:0.67637\tvalidation_1-error:0.26116\tvalidation_1-logloss:0.67560\n",
      "[8]\tvalidation_0-error:0.28054\tvalidation_0-logloss:0.67445\tvalidation_1-error:0.25984\tvalidation_1-logloss:0.67362\n",
      "[9]\tvalidation_0-error:0.28025\tvalidation_0-logloss:0.67254\tvalidation_1-error:0.26378\tvalidation_1-logloss:0.67158\n",
      "[10]\tvalidation_0-error:0.27996\tvalidation_0-logloss:0.67064\tvalidation_1-error:0.26247\tvalidation_1-logloss:0.66967\n",
      "[11]\tvalidation_0-error:0.28010\tvalidation_0-logloss:0.66878\tvalidation_1-error:0.26116\tvalidation_1-logloss:0.66773\n",
      "[12]\tvalidation_0-error:0.28127\tvalidation_0-logloss:0.66695\tvalidation_1-error:0.25984\tvalidation_1-logloss:0.66573\n"
     ]
    },
    {
     "name": "stderr",
     "output_type": "stream",
     "text": [
      "/Users/mohammadyakoub/.pyenv/versions/3.9.1/lib/python3.9/site-packages/xgboost/sklearn.py:1146: UserWarning: The use of label encoder in XGBClassifier is deprecated and will be removed in a future release. To remove this warning, do the following: 1) Pass option use_label_encoder=False when constructing XGBClassifier object; and 2) Encode your labels (y) as integers starting with 0, i.e. 0, 1, 2, ..., [num_class - 1].\n",
      "  warnings.warn(label_encoder_deprecation_msg, UserWarning)\n",
      "/Users/mohammadyakoub/.pyenv/versions/3.9.1/lib/python3.9/site-packages/sklearn/utils/validation.py:63: DataConversionWarning: A column-vector y was passed when a 1d array was expected. Please change the shape of y to (n_samples, ), for example using ravel().\n",
      "  return f(*args, **kwargs)\n"
     ]
    },
    {
     "name": "stdout",
     "output_type": "stream",
     "text": [
      "[13]\tvalidation_0-error:0.27894\tvalidation_0-logloss:0.66517\tvalidation_1-error:0.26247\tvalidation_1-logloss:0.66385\n",
      "[14]\tvalidation_0-error:0.27981\tvalidation_0-logloss:0.66341\tvalidation_1-error:0.26247\tvalidation_1-logloss:0.66199\n",
      "[15]\tvalidation_0-error:0.28040\tvalidation_0-logloss:0.66166\tvalidation_1-error:0.26116\tvalidation_1-logloss:0.66019\n",
      "[16]\tvalidation_0-error:0.27894\tvalidation_0-logloss:0.66002\tvalidation_1-error:0.25984\tvalidation_1-logloss:0.65850\n",
      "[17]\tvalidation_0-error:0.27864\tvalidation_0-logloss:0.65831\tvalidation_1-error:0.26116\tvalidation_1-logloss:0.65675\n",
      "[18]\tvalidation_0-error:0.27981\tvalidation_0-logloss:0.65673\tvalidation_1-error:0.25984\tvalidation_1-logloss:0.65510\n",
      "[19]\tvalidation_0-error:0.27981\tvalidation_0-logloss:0.65517\tvalidation_1-error:0.26116\tvalidation_1-logloss:0.65346\n",
      "[20]\tvalidation_0-error:0.27923\tvalidation_0-logloss:0.65359\tvalidation_1-error:0.26247\tvalidation_1-logloss:0.65178\n",
      "[21]\tvalidation_0-error:0.27981\tvalidation_0-logloss:0.65204\tvalidation_1-error:0.25722\tvalidation_1-logloss:0.65006\n",
      "[22]\tvalidation_0-error:0.28040\tvalidation_0-logloss:0.65050\tvalidation_1-error:0.25591\tvalidation_1-logloss:0.64843\n",
      "[23]\tvalidation_0-error:0.27821\tvalidation_0-logloss:0.64899\tvalidation_1-error:0.25459\tvalidation_1-logloss:0.64682\n",
      "[24]\tvalidation_0-error:0.27806\tvalidation_0-logloss:0.64752\tvalidation_1-error:0.25591\tvalidation_1-logloss:0.64527\n",
      "[25]\tvalidation_0-error:0.27748\tvalidation_0-logloss:0.64603\tvalidation_1-error:0.25591\tvalidation_1-logloss:0.64375\n",
      "[26]\tvalidation_0-error:0.27806\tvalidation_0-logloss:0.64460\tvalidation_1-error:0.25591\tvalidation_1-logloss:0.64225\n",
      "[27]\tvalidation_0-error:0.27748\tvalidation_0-logloss:0.64321\tvalidation_1-error:0.25459\tvalidation_1-logloss:0.64075\n",
      "[28]\tvalidation_0-error:0.27806\tvalidation_0-logloss:0.64184\tvalidation_1-error:0.25591\tvalidation_1-logloss:0.63937\n",
      "[29]\tvalidation_0-error:0.27821\tvalidation_0-logloss:0.64049\tvalidation_1-error:0.25853\tvalidation_1-logloss:0.63795\n",
      "[30]\tvalidation_0-error:0.27748\tvalidation_0-logloss:0.63918\tvalidation_1-error:0.25853\tvalidation_1-logloss:0.63654\n",
      "[31]\tvalidation_0-error:0.27806\tvalidation_0-logloss:0.63786\tvalidation_1-error:0.25591\tvalidation_1-logloss:0.63510\n",
      "[32]\tvalidation_0-error:0.27762\tvalidation_0-logloss:0.63650\tvalidation_1-error:0.25853\tvalidation_1-logloss:0.63360\n",
      "[33]\tvalidation_0-error:0.27762\tvalidation_0-logloss:0.63520\tvalidation_1-error:0.25853\tvalidation_1-logloss:0.63217\n",
      "[34]\tvalidation_0-error:0.27733\tvalidation_0-logloss:0.63390\tvalidation_1-error:0.25591\tvalidation_1-logloss:0.63077\n",
      "[35]\tvalidation_0-error:0.27762\tvalidation_0-logloss:0.63266\tvalidation_1-error:0.25722\tvalidation_1-logloss:0.62945\n",
      "[36]\tvalidation_0-error:0.27689\tvalidation_0-logloss:0.63142\tvalidation_1-error:0.25722\tvalidation_1-logloss:0.62810\n",
      "[37]\tvalidation_0-error:0.27792\tvalidation_0-logloss:0.63023\tvalidation_1-error:0.25328\tvalidation_1-logloss:0.62680\n",
      "[38]\tvalidation_0-error:0.27733\tvalidation_0-logloss:0.62910\tvalidation_1-error:0.25328\tvalidation_1-logloss:0.62562\n",
      "[39]\tvalidation_0-error:0.27631\tvalidation_0-logloss:0.62797\tvalidation_1-error:0.24934\tvalidation_1-logloss:0.62436\n",
      "[40]\tvalidation_0-error:0.27631\tvalidation_0-logloss:0.62687\tvalidation_1-error:0.25459\tvalidation_1-logloss:0.62319\n",
      "[41]\tvalidation_0-error:0.27646\tvalidation_0-logloss:0.62576\tvalidation_1-error:0.25328\tvalidation_1-logloss:0.62201\n",
      "[42]\tvalidation_0-error:0.27719\tvalidation_0-logloss:0.62462\tvalidation_1-error:0.25328\tvalidation_1-logloss:0.62080\n",
      "[43]\tvalidation_0-error:0.27660\tvalidation_0-logloss:0.62349\tvalidation_1-error:0.25459\tvalidation_1-logloss:0.61967\n",
      "[44]\tvalidation_0-error:0.27616\tvalidation_0-logloss:0.62243\tvalidation_1-error:0.25591\tvalidation_1-logloss:0.61861\n",
      "[45]\tvalidation_0-error:0.27704\tvalidation_0-logloss:0.62136\tvalidation_1-error:0.25459\tvalidation_1-logloss:0.61748\n",
      "[46]\tvalidation_0-error:0.27631\tvalidation_0-logloss:0.62026\tvalidation_1-error:0.25459\tvalidation_1-logloss:0.61635\n",
      "[47]\tvalidation_0-error:0.27675\tvalidation_0-logloss:0.61921\tvalidation_1-error:0.25591\tvalidation_1-logloss:0.61525\n",
      "[48]\tvalidation_0-error:0.27704\tvalidation_0-logloss:0.61816\tvalidation_1-error:0.25459\tvalidation_1-logloss:0.61411\n",
      "[49]\tvalidation_0-error:0.27646\tvalidation_0-logloss:0.61716\tvalidation_1-error:0.25459\tvalidation_1-logloss:0.61308\n",
      "[50]\tvalidation_0-error:0.27704\tvalidation_0-logloss:0.61620\tvalidation_1-error:0.25591\tvalidation_1-logloss:0.61203\n",
      "[51]\tvalidation_0-error:0.27558\tvalidation_0-logloss:0.61519\tvalidation_1-error:0.25722\tvalidation_1-logloss:0.61098\n",
      "[52]\tvalidation_0-error:0.27616\tvalidation_0-logloss:0.61420\tvalidation_1-error:0.25722\tvalidation_1-logloss:0.60998\n",
      "[53]\tvalidation_0-error:0.27587\tvalidation_0-logloss:0.61321\tvalidation_1-error:0.25722\tvalidation_1-logloss:0.60892\n",
      "[54]\tvalidation_0-error:0.27602\tvalidation_0-logloss:0.61228\tvalidation_1-error:0.25591\tvalidation_1-logloss:0.60785\n",
      "[55]\tvalidation_0-error:0.27500\tvalidation_0-logloss:0.61134\tvalidation_1-error:0.25328\tvalidation_1-logloss:0.60683\n",
      "[56]\tvalidation_0-error:0.27485\tvalidation_0-logloss:0.61044\tvalidation_1-error:0.25197\tvalidation_1-logloss:0.60588\n",
      "[57]\tvalidation_0-error:0.27427\tvalidation_0-logloss:0.60943\tvalidation_1-error:0.24934\tvalidation_1-logloss:0.60483\n",
      "[58]\tvalidation_0-error:0.27237\tvalidation_0-logloss:0.60842\tvalidation_1-error:0.25197\tvalidation_1-logloss:0.60376\n",
      "[59]\tvalidation_0-error:0.27208\tvalidation_0-logloss:0.60753\tvalidation_1-error:0.25328\tvalidation_1-logloss:0.60282\n",
      "[60]\tvalidation_0-error:0.27164\tvalidation_0-logloss:0.60653\tvalidation_1-error:0.25328\tvalidation_1-logloss:0.60182\n",
      "[61]\tvalidation_0-error:0.27135\tvalidation_0-logloss:0.60557\tvalidation_1-error:0.25328\tvalidation_1-logloss:0.60086\n",
      "[62]\tvalidation_0-error:0.27164\tvalidation_0-logloss:0.60466\tvalidation_1-error:0.25459\tvalidation_1-logloss:0.59987\n",
      "[63]\tvalidation_0-error:0.27135\tvalidation_0-logloss:0.60379\tvalidation_1-error:0.25459\tvalidation_1-logloss:0.59895\n",
      "[64]\tvalidation_0-error:0.27135\tvalidation_0-logloss:0.60299\tvalidation_1-error:0.25591\tvalidation_1-logloss:0.59804\n",
      "[65]\tvalidation_0-error:0.27164\tvalidation_0-logloss:0.60215\tvalidation_1-error:0.25722\tvalidation_1-logloss:0.59719\n",
      "[66]\tvalidation_0-error:0.27076\tvalidation_0-logloss:0.60135\tvalidation_1-error:0.25197\tvalidation_1-logloss:0.59638\n",
      "[67]\tvalidation_0-error:0.26974\tvalidation_0-logloss:0.60055\tvalidation_1-error:0.25328\tvalidation_1-logloss:0.59546\n",
      "[68]\tvalidation_0-error:0.27120\tvalidation_0-logloss:0.59965\tvalidation_1-error:0.25459\tvalidation_1-logloss:0.59458\n",
      "[69]\tvalidation_0-error:0.27033\tvalidation_0-logloss:0.59888\tvalidation_1-error:0.25197\tvalidation_1-logloss:0.59374\n",
      "[70]\tvalidation_0-error:0.27018\tvalidation_0-logloss:0.59813\tvalidation_1-error:0.25197\tvalidation_1-logloss:0.59293\n",
      "[71]\tvalidation_0-error:0.26901\tvalidation_0-logloss:0.59733\tvalidation_1-error:0.25328\tvalidation_1-logloss:0.59208\n",
      "[72]\tvalidation_0-error:0.27105\tvalidation_0-logloss:0.59665\tvalidation_1-error:0.25328\tvalidation_1-logloss:0.59135\n",
      "[73]\tvalidation_0-error:0.26974\tvalidation_0-logloss:0.59588\tvalidation_1-error:0.25591\tvalidation_1-logloss:0.59058\n",
      "[74]\tvalidation_0-error:0.26960\tvalidation_0-logloss:0.59516\tvalidation_1-error:0.25591\tvalidation_1-logloss:0.58986\n",
      "[75]\tvalidation_0-error:0.26930\tvalidation_0-logloss:0.59439\tvalidation_1-error:0.25459\tvalidation_1-logloss:0.58901\n",
      "[76]\tvalidation_0-error:0.26887\tvalidation_0-logloss:0.59361\tvalidation_1-error:0.25459\tvalidation_1-logloss:0.58823\n",
      "[77]\tvalidation_0-error:0.26872\tvalidation_0-logloss:0.59282\tvalidation_1-error:0.25459\tvalidation_1-logloss:0.58738\n",
      "[78]\tvalidation_0-error:0.26857\tvalidation_0-logloss:0.59211\tvalidation_1-error:0.25591\tvalidation_1-logloss:0.58660\n",
      "[79]\tvalidation_0-error:0.26872\tvalidation_0-logloss:0.59147\tvalidation_1-error:0.25459\tvalidation_1-logloss:0.58590\n",
      "[80]\tvalidation_0-error:0.26828\tvalidation_0-logloss:0.59068\tvalidation_1-error:0.25459\tvalidation_1-logloss:0.58505\n",
      "[81]\tvalidation_0-error:0.26857\tvalidation_0-logloss:0.58998\tvalidation_1-error:0.25328\tvalidation_1-logloss:0.58437\n",
      "[82]\tvalidation_0-error:0.26843\tvalidation_0-logloss:0.58936\tvalidation_1-error:0.25459\tvalidation_1-logloss:0.58373\n",
      "[83]\tvalidation_0-error:0.26828\tvalidation_0-logloss:0.58871\tvalidation_1-error:0.25591\tvalidation_1-logloss:0.58311\n"
     ]
    },
    {
     "name": "stdout",
     "output_type": "stream",
     "text": [
      "[84]\tvalidation_0-error:0.26828\tvalidation_0-logloss:0.58808\tvalidation_1-error:0.25722\tvalidation_1-logloss:0.58239\n",
      "[85]\tvalidation_0-error:0.26799\tvalidation_0-logloss:0.58735\tvalidation_1-error:0.25591\tvalidation_1-logloss:0.58161\n",
      "[86]\tvalidation_0-error:0.26784\tvalidation_0-logloss:0.58668\tvalidation_1-error:0.25459\tvalidation_1-logloss:0.58098\n",
      "[87]\tvalidation_0-error:0.26799\tvalidation_0-logloss:0.58609\tvalidation_1-error:0.25591\tvalidation_1-logloss:0.58037\n",
      "[88]\tvalidation_0-error:0.26814\tvalidation_0-logloss:0.58544\tvalidation_1-error:0.25722\tvalidation_1-logloss:0.57962\n",
      "[89]\tvalidation_0-error:0.26784\tvalidation_0-logloss:0.58474\tvalidation_1-error:0.25722\tvalidation_1-logloss:0.57890\n",
      "[90]\tvalidation_0-error:0.26697\tvalidation_0-logloss:0.58411\tvalidation_1-error:0.25722\tvalidation_1-logloss:0.57832\n",
      "[91]\tvalidation_0-error:0.26697\tvalidation_0-logloss:0.58355\tvalidation_1-error:0.25722\tvalidation_1-logloss:0.57771\n",
      "[92]\tvalidation_0-error:0.26726\tvalidation_0-logloss:0.58289\tvalidation_1-error:0.25591\tvalidation_1-logloss:0.57702\n",
      "[93]\tvalidation_0-error:0.26682\tvalidation_0-logloss:0.58227\tvalidation_1-error:0.25459\tvalidation_1-logloss:0.57638\n",
      "[94]\tvalidation_0-error:0.26653\tvalidation_0-logloss:0.58164\tvalidation_1-error:0.25591\tvalidation_1-logloss:0.57574\n",
      "[95]\tvalidation_0-error:0.26697\tvalidation_0-logloss:0.58102\tvalidation_1-error:0.25591\tvalidation_1-logloss:0.57508\n",
      "[96]\tvalidation_0-error:0.26697\tvalidation_0-logloss:0.58037\tvalidation_1-error:0.25328\tvalidation_1-logloss:0.57451\n",
      "[97]\tvalidation_0-error:0.26697\tvalidation_0-logloss:0.57983\tvalidation_1-error:0.25328\tvalidation_1-logloss:0.57392\n",
      "[98]\tvalidation_0-error:0.26711\tvalidation_0-logloss:0.57925\tvalidation_1-error:0.25853\tvalidation_1-logloss:0.57336\n",
      "[99]\tvalidation_0-error:0.26726\tvalidation_0-logloss:0.57870\tvalidation_1-error:0.25591\tvalidation_1-logloss:0.57276\n",
      "[100]\tvalidation_0-error:0.26697\tvalidation_0-logloss:0.57819\tvalidation_1-error:0.25591\tvalidation_1-logloss:0.57222\n",
      "[101]\tvalidation_0-error:0.26711\tvalidation_0-logloss:0.57768\tvalidation_1-error:0.25591\tvalidation_1-logloss:0.57159\n",
      "[102]\tvalidation_0-error:0.26682\tvalidation_0-logloss:0.57713\tvalidation_1-error:0.25591\tvalidation_1-logloss:0.57102\n",
      "[103]\tvalidation_0-error:0.26711\tvalidation_0-logloss:0.57659\tvalidation_1-error:0.25853\tvalidation_1-logloss:0.57048\n",
      "[104]\tvalidation_0-error:0.26711\tvalidation_0-logloss:0.57611\tvalidation_1-error:0.25853\tvalidation_1-logloss:0.56993\n",
      "[105]\tvalidation_0-error:0.26741\tvalidation_0-logloss:0.57559\tvalidation_1-error:0.25853\tvalidation_1-logloss:0.56948\n",
      "[106]\tvalidation_0-error:0.26653\tvalidation_0-logloss:0.57511\tvalidation_1-error:0.25853\tvalidation_1-logloss:0.56897\n",
      "[107]\tvalidation_0-error:0.26668\tvalidation_0-logloss:0.57463\tvalidation_1-error:0.25853\tvalidation_1-logloss:0.56845\n",
      "[108]\tvalidation_0-error:0.26638\tvalidation_0-logloss:0.57408\tvalidation_1-error:0.25984\tvalidation_1-logloss:0.56792\n",
      "[109]\tvalidation_0-error:0.26668\tvalidation_0-logloss:0.57358\tvalidation_1-error:0.25853\tvalidation_1-logloss:0.56751\n",
      "[110]\tvalidation_0-error:0.26668\tvalidation_0-logloss:0.57309\tvalidation_1-error:0.25853\tvalidation_1-logloss:0.56703\n",
      "[111]\tvalidation_0-error:0.26653\tvalidation_0-logloss:0.57263\tvalidation_1-error:0.25984\tvalidation_1-logloss:0.56658\n",
      "[112]\tvalidation_0-error:0.26653\tvalidation_0-logloss:0.57212\tvalidation_1-error:0.25853\tvalidation_1-logloss:0.56611\n",
      "[113]\tvalidation_0-error:0.26682\tvalidation_0-logloss:0.57169\tvalidation_1-error:0.25853\tvalidation_1-logloss:0.56561\n",
      "[114]\tvalidation_0-error:0.26682\tvalidation_0-logloss:0.57125\tvalidation_1-error:0.25853\tvalidation_1-logloss:0.56518\n",
      "[115]\tvalidation_0-error:0.26624\tvalidation_0-logloss:0.57081\tvalidation_1-error:0.25853\tvalidation_1-logloss:0.56474\n",
      "[116]\tvalidation_0-error:0.26580\tvalidation_0-logloss:0.57041\tvalidation_1-error:0.25722\tvalidation_1-logloss:0.56430\n",
      "[117]\tvalidation_0-error:0.26565\tvalidation_0-logloss:0.56989\tvalidation_1-error:0.25853\tvalidation_1-logloss:0.56373\n",
      "[118]\tvalidation_0-error:0.26551\tvalidation_0-logloss:0.56948\tvalidation_1-error:0.25853\tvalidation_1-logloss:0.56327\n",
      "[119]\tvalidation_0-error:0.26522\tvalidation_0-logloss:0.56900\tvalidation_1-error:0.25722\tvalidation_1-logloss:0.56277\n",
      "[120]\tvalidation_0-error:0.26493\tvalidation_0-logloss:0.56852\tvalidation_1-error:0.25853\tvalidation_1-logloss:0.56227\n",
      "[121]\tvalidation_0-error:0.26463\tvalidation_0-logloss:0.56813\tvalidation_1-error:0.25853\tvalidation_1-logloss:0.56182\n",
      "[122]\tvalidation_0-error:0.26463\tvalidation_0-logloss:0.56766\tvalidation_1-error:0.25722\tvalidation_1-logloss:0.56138\n",
      "[123]\tvalidation_0-error:0.26449\tvalidation_0-logloss:0.56720\tvalidation_1-error:0.25722\tvalidation_1-logloss:0.56088\n",
      "[124]\tvalidation_0-error:0.26434\tvalidation_0-logloss:0.56673\tvalidation_1-error:0.25591\tvalidation_1-logloss:0.56035\n",
      "[125]\tvalidation_0-error:0.26420\tvalidation_0-logloss:0.56629\tvalidation_1-error:0.25853\tvalidation_1-logloss:0.55990\n",
      "[126]\tvalidation_0-error:0.26463\tvalidation_0-logloss:0.56592\tvalidation_1-error:0.25984\tvalidation_1-logloss:0.55956\n",
      "[127]\tvalidation_0-error:0.26434\tvalidation_0-logloss:0.56547\tvalidation_1-error:0.25853\tvalidation_1-logloss:0.55913\n",
      "[128]\tvalidation_0-error:0.26478\tvalidation_0-logloss:0.56505\tvalidation_1-error:0.25984\tvalidation_1-logloss:0.55874\n",
      "[129]\tvalidation_0-error:0.26434\tvalidation_0-logloss:0.56465\tvalidation_1-error:0.25984\tvalidation_1-logloss:0.55838\n",
      "[130]\tvalidation_0-error:0.26405\tvalidation_0-logloss:0.56425\tvalidation_1-error:0.25984\tvalidation_1-logloss:0.55806\n",
      "[131]\tvalidation_0-error:0.26434\tvalidation_0-logloss:0.56384\tvalidation_1-error:0.25853\tvalidation_1-logloss:0.55762\n",
      "[132]\tvalidation_0-error:0.26405\tvalidation_0-logloss:0.56348\tvalidation_1-error:0.25853\tvalidation_1-logloss:0.55724\n",
      "[133]\tvalidation_0-error:0.26376\tvalidation_0-logloss:0.56309\tvalidation_1-error:0.25853\tvalidation_1-logloss:0.55689\n",
      "[134]\tvalidation_0-error:0.26420\tvalidation_0-logloss:0.56271\tvalidation_1-error:0.25853\tvalidation_1-logloss:0.55649\n",
      "[135]\tvalidation_0-error:0.26390\tvalidation_0-logloss:0.56233\tvalidation_1-error:0.25722\tvalidation_1-logloss:0.55612\n",
      "[136]\tvalidation_0-error:0.26347\tvalidation_0-logloss:0.56195\tvalidation_1-error:0.25853\tvalidation_1-logloss:0.55580\n",
      "[137]\tvalidation_0-error:0.26361\tvalidation_0-logloss:0.56156\tvalidation_1-error:0.25853\tvalidation_1-logloss:0.55548\n",
      "[138]\tvalidation_0-error:0.26317\tvalidation_0-logloss:0.56121\tvalidation_1-error:0.25459\tvalidation_1-logloss:0.55514\n",
      "[139]\tvalidation_0-error:0.26347\tvalidation_0-logloss:0.56076\tvalidation_1-error:0.25722\tvalidation_1-logloss:0.55472\n",
      "[140]\tvalidation_0-error:0.26405\tvalidation_0-logloss:0.56042\tvalidation_1-error:0.25853\tvalidation_1-logloss:0.55434\n",
      "[141]\tvalidation_0-error:0.26317\tvalidation_0-logloss:0.56005\tvalidation_1-error:0.25591\tvalidation_1-logloss:0.55392\n",
      "[142]\tvalidation_0-error:0.26244\tvalidation_0-logloss:0.55966\tvalidation_1-error:0.25722\tvalidation_1-logloss:0.55349\n",
      "[143]\tvalidation_0-error:0.26273\tvalidation_0-logloss:0.55932\tvalidation_1-error:0.25591\tvalidation_1-logloss:0.55310\n",
      "[144]\tvalidation_0-error:0.26273\tvalidation_0-logloss:0.55897\tvalidation_1-error:0.25591\tvalidation_1-logloss:0.55278\n",
      "[145]\tvalidation_0-error:0.26215\tvalidation_0-logloss:0.55859\tvalidation_1-error:0.25459\tvalidation_1-logloss:0.55241\n",
      "[146]\tvalidation_0-error:0.26215\tvalidation_0-logloss:0.55825\tvalidation_1-error:0.25459\tvalidation_1-logloss:0.55207\n",
      "[147]\tvalidation_0-error:0.26215\tvalidation_0-logloss:0.55788\tvalidation_1-error:0.25459\tvalidation_1-logloss:0.55182\n",
      "[148]\tvalidation_0-error:0.26186\tvalidation_0-logloss:0.55746\tvalidation_1-error:0.25459\tvalidation_1-logloss:0.55144\n",
      "[149]\tvalidation_0-error:0.26128\tvalidation_0-logloss:0.55712\tvalidation_1-error:0.25459\tvalidation_1-logloss:0.55115\n",
      "[150]\tvalidation_0-error:0.26171\tvalidation_0-logloss:0.55673\tvalidation_1-error:0.25459\tvalidation_1-logloss:0.55077\n",
      "[151]\tvalidation_0-error:0.26186\tvalidation_0-logloss:0.55633\tvalidation_1-error:0.25459\tvalidation_1-logloss:0.55039\n",
      "[152]\tvalidation_0-error:0.26186\tvalidation_0-logloss:0.55605\tvalidation_1-error:0.25459\tvalidation_1-logloss:0.55011\n",
      "[153]\tvalidation_0-error:0.26201\tvalidation_0-logloss:0.55575\tvalidation_1-error:0.25459\tvalidation_1-logloss:0.54983\n"
     ]
    },
    {
     "name": "stdout",
     "output_type": "stream",
     "text": [
      "[154]\tvalidation_0-error:0.26201\tvalidation_0-logloss:0.55545\tvalidation_1-error:0.25459\tvalidation_1-logloss:0.54959\n",
      "[155]\tvalidation_0-error:0.26215\tvalidation_0-logloss:0.55514\tvalidation_1-error:0.25459\tvalidation_1-logloss:0.54931\n",
      "[156]\tvalidation_0-error:0.26171\tvalidation_0-logloss:0.55478\tvalidation_1-error:0.25459\tvalidation_1-logloss:0.54907\n",
      "[157]\tvalidation_0-error:0.26142\tvalidation_0-logloss:0.55448\tvalidation_1-error:0.25591\tvalidation_1-logloss:0.54878\n",
      "[158]\tvalidation_0-error:0.26025\tvalidation_0-logloss:0.55413\tvalidation_1-error:0.25591\tvalidation_1-logloss:0.54858\n",
      "[159]\tvalidation_0-error:0.26055\tvalidation_0-logloss:0.55381\tvalidation_1-error:0.25459\tvalidation_1-logloss:0.54829\n",
      "[160]\tvalidation_0-error:0.26084\tvalidation_0-logloss:0.55346\tvalidation_1-error:0.25328\tvalidation_1-logloss:0.54792\n",
      "[161]\tvalidation_0-error:0.26069\tvalidation_0-logloss:0.55322\tvalidation_1-error:0.25591\tvalidation_1-logloss:0.54773\n",
      "[162]\tvalidation_0-error:0.26128\tvalidation_0-logloss:0.55290\tvalidation_1-error:0.25459\tvalidation_1-logloss:0.54748\n",
      "[163]\tvalidation_0-error:0.26069\tvalidation_0-logloss:0.55260\tvalidation_1-error:0.25459\tvalidation_1-logloss:0.54729\n",
      "[164]\tvalidation_0-error:0.26055\tvalidation_0-logloss:0.55227\tvalidation_1-error:0.25459\tvalidation_1-logloss:0.54703\n",
      "[165]\tvalidation_0-error:0.26098\tvalidation_0-logloss:0.55201\tvalidation_1-error:0.25459\tvalidation_1-logloss:0.54684\n",
      "[166]\tvalidation_0-error:0.26055\tvalidation_0-logloss:0.55168\tvalidation_1-error:0.25591\tvalidation_1-logloss:0.54654\n",
      "[167]\tvalidation_0-error:0.26040\tvalidation_0-logloss:0.55136\tvalidation_1-error:0.25591\tvalidation_1-logloss:0.54627\n",
      "[168]\tvalidation_0-error:0.26040\tvalidation_0-logloss:0.55099\tvalidation_1-error:0.25591\tvalidation_1-logloss:0.54592\n",
      "[169]\tvalidation_0-error:0.26084\tvalidation_0-logloss:0.55070\tvalidation_1-error:0.25591\tvalidation_1-logloss:0.54569\n",
      "[170]\tvalidation_0-error:0.26069\tvalidation_0-logloss:0.55044\tvalidation_1-error:0.25459\tvalidation_1-logloss:0.54548\n",
      "[171]\tvalidation_0-error:0.26098\tvalidation_0-logloss:0.55015\tvalidation_1-error:0.25591\tvalidation_1-logloss:0.54518\n",
      "[172]\tvalidation_0-error:0.26084\tvalidation_0-logloss:0.54985\tvalidation_1-error:0.25591\tvalidation_1-logloss:0.54487\n",
      "[173]\tvalidation_0-error:0.26084\tvalidation_0-logloss:0.54952\tvalidation_1-error:0.25591\tvalidation_1-logloss:0.54450\n",
      "[174]\tvalidation_0-error:0.26069\tvalidation_0-logloss:0.54927\tvalidation_1-error:0.25722\tvalidation_1-logloss:0.54430\n",
      "[175]\tvalidation_0-error:0.26055\tvalidation_0-logloss:0.54897\tvalidation_1-error:0.25722\tvalidation_1-logloss:0.54400\n",
      "[176]\tvalidation_0-error:0.26055\tvalidation_0-logloss:0.54872\tvalidation_1-error:0.25591\tvalidation_1-logloss:0.54376\n",
      "[177]\tvalidation_0-error:0.26025\tvalidation_0-logloss:0.54844\tvalidation_1-error:0.25591\tvalidation_1-logloss:0.54354\n",
      "[178]\tvalidation_0-error:0.25996\tvalidation_0-logloss:0.54812\tvalidation_1-error:0.25459\tvalidation_1-logloss:0.54321\n",
      "[179]\tvalidation_0-error:0.26011\tvalidation_0-logloss:0.54778\tvalidation_1-error:0.25459\tvalidation_1-logloss:0.54297\n",
      "[180]\tvalidation_0-error:0.25967\tvalidation_0-logloss:0.54754\tvalidation_1-error:0.25459\tvalidation_1-logloss:0.54276\n",
      "[181]\tvalidation_0-error:0.25982\tvalidation_0-logloss:0.54720\tvalidation_1-error:0.25459\tvalidation_1-logloss:0.54236\n",
      "[182]\tvalidation_0-error:0.25982\tvalidation_0-logloss:0.54694\tvalidation_1-error:0.25328\tvalidation_1-logloss:0.54217\n",
      "[183]\tvalidation_0-error:0.25967\tvalidation_0-logloss:0.54673\tvalidation_1-error:0.25328\tvalidation_1-logloss:0.54197\n",
      "[184]\tvalidation_0-error:0.26011\tvalidation_0-logloss:0.54644\tvalidation_1-error:0.25459\tvalidation_1-logloss:0.54170\n",
      "[185]\tvalidation_0-error:0.25938\tvalidation_0-logloss:0.54619\tvalidation_1-error:0.25328\tvalidation_1-logloss:0.54151\n",
      "[186]\tvalidation_0-error:0.25923\tvalidation_0-logloss:0.54590\tvalidation_1-error:0.25459\tvalidation_1-logloss:0.54128\n",
      "[187]\tvalidation_0-error:0.25909\tvalidation_0-logloss:0.54561\tvalidation_1-error:0.25459\tvalidation_1-logloss:0.54108\n",
      "[188]\tvalidation_0-error:0.25938\tvalidation_0-logloss:0.54533\tvalidation_1-error:0.25328\tvalidation_1-logloss:0.54079\n",
      "[189]\tvalidation_0-error:0.25938\tvalidation_0-logloss:0.54504\tvalidation_1-error:0.25459\tvalidation_1-logloss:0.54055\n",
      "[190]\tvalidation_0-error:0.25865\tvalidation_0-logloss:0.54473\tvalidation_1-error:0.25459\tvalidation_1-logloss:0.54033\n",
      "[191]\tvalidation_0-error:0.25879\tvalidation_0-logloss:0.54450\tvalidation_1-error:0.25459\tvalidation_1-logloss:0.54013\n",
      "[192]\tvalidation_0-error:0.25894\tvalidation_0-logloss:0.54426\tvalidation_1-error:0.25459\tvalidation_1-logloss:0.53995\n",
      "[193]\tvalidation_0-error:0.25894\tvalidation_0-logloss:0.54404\tvalidation_1-error:0.25459\tvalidation_1-logloss:0.53972\n",
      "[194]\tvalidation_0-error:0.25865\tvalidation_0-logloss:0.54369\tvalidation_1-error:0.25459\tvalidation_1-logloss:0.53943\n",
      "[195]\tvalidation_0-error:0.25792\tvalidation_0-logloss:0.54334\tvalidation_1-error:0.25459\tvalidation_1-logloss:0.53914\n",
      "[196]\tvalidation_0-error:0.25792\tvalidation_0-logloss:0.54311\tvalidation_1-error:0.25459\tvalidation_1-logloss:0.53896\n",
      "[197]\tvalidation_0-error:0.25777\tvalidation_0-logloss:0.54290\tvalidation_1-error:0.25459\tvalidation_1-logloss:0.53880\n",
      "[198]\tvalidation_0-error:0.25792\tvalidation_0-logloss:0.54263\tvalidation_1-error:0.25459\tvalidation_1-logloss:0.53861\n",
      "[199]\tvalidation_0-error:0.25777\tvalidation_0-logloss:0.54236\tvalidation_1-error:0.25459\tvalidation_1-logloss:0.53833\n",
      "CPU times: user 5.03 s, sys: 224 ms, total: 5.26 s\n",
      "Wall time: 2.37 s\n"
     ]
    },
    {
     "data": {
      "text/plain": [
       "XGBClassifier(base_score=0.5, booster='gbtree', colsample_bylevel=1,\n",
       "              colsample_bynode=1, colsample_bytree=1, gamma=0, gpu_id=-1,\n",
       "              importance_type='gain', interaction_constraints='',\n",
       "              learning_rate=0.01, max_delta_step=0, max_depth=4,\n",
       "              min_child_weight=1, missing=nan, monotone_constraints='()',\n",
       "              n_estimators=200, n_jobs=4, num_parallel_tree=1, random_state=0,\n",
       "              reg_alpha=0, reg_lambda=1, scale_pos_weight=1, subsample=0.9,\n",
       "              tree_method='exact', validate_parameters=1, verbosity=None)"
      ]
     },
     "execution_count": 121,
     "metadata": {},
     "output_type": "execute_result"
    }
   ],
   "source": [
    "%%time\n",
    "\n",
    "xgb_model = xgb.XGBClassifier(max_depth=4,\n",
    "                        subsample=0.9,\n",
    "                        objective='binary:logistic',\n",
    "                        n_estimators=200,\n",
    "                        learning_rate = 0.01)\n",
    "eval_set = [(train_X, train_Y), (test_X, test_Y)]\n",
    "xgb_model.fit(train_X, train_Y.ravel(), early_stopping_rounds=10, eval_metric=[\"error\", \"logloss\"], eval_set=eval_set, verbose=True)\n",
    "\n"
   ]
  },
  {
   "cell_type": "code",
   "execution_count": 122,
   "id": "acoustic-michigan",
   "metadata": {},
   "outputs": [
    {
     "name": "stdout",
     "output_type": "stream",
     "text": [
      "Accuracy: 74.54%\n"
     ]
    }
   ],
   "source": [
    "# make predictions for test data\n",
    "y_pred = xgb_model.predict(test_X)\n",
    "predictions = [round(value) for value in y_pred]\n",
    "# evaluate predictions\n",
    "accuracy = accuracy_score(test_Y, predictions)\n",
    "print(\"Accuracy: %.2f%%\" % (accuracy * 100.0))"
   ]
  },
  {
   "cell_type": "code",
   "execution_count": 123,
   "id": "phantom-malawi",
   "metadata": {},
   "outputs": [],
   "source": [
    "test_negativity_score = test_dataset['text'].apply(negative_score)"
   ]
  },
  {
   "cell_type": "code",
   "execution_count": 124,
   "id": "focal-secretary",
   "metadata": {},
   "outputs": [],
   "source": [
    "y_test_pred = xgb_model.predict(np.vstack(test_negativity_score))"
   ]
  },
  {
   "cell_type": "code",
   "execution_count": 125,
   "id": "impaired-joseph",
   "metadata": {},
   "outputs": [
    {
     "data": {
      "text/plain": [
       "array([0, 1, 1, ..., 1, 1, 1])"
      ]
     },
     "execution_count": 125,
     "metadata": {},
     "output_type": "execute_result"
    }
   ],
   "source": [
    "y_test_pred"
   ]
  },
  {
   "cell_type": "code",
   "execution_count": 126,
   "id": "faced-sydney",
   "metadata": {},
   "outputs": [],
   "source": [
    "y_test_id = test_dataset['id']"
   ]
  },
  {
   "cell_type": "code",
   "execution_count": 127,
   "id": "reverse-recycling",
   "metadata": {},
   "outputs": [],
   "source": [
    "data = [y_test_id, pd.Series(y_test_pred)]\n",
    "headers = [\"id\", \"target\"]\n",
    "submission = pd.concat(data, axis=1, keys=headers)"
   ]
  },
  {
   "cell_type": "code",
   "execution_count": 128,
   "id": "limiting-weekly",
   "metadata": {},
   "outputs": [],
   "source": [
    "submission.to_csv('submission.csv', index=False)"
   ]
  },
  {
   "cell_type": "markdown",
   "id": "mexican-smell",
   "metadata": {},
   "source": [
    "#### "
   ]
  }
 ],
 "metadata": {
  "kernelspec": {
   "display_name": "Python 3",
   "language": "python",
   "name": "python3"
  },
  "language_info": {
   "codemirror_mode": {
    "name": "ipython",
    "version": 3
   },
   "file_extension": ".py",
   "mimetype": "text/x-python",
   "name": "python",
   "nbconvert_exporter": "python",
   "pygments_lexer": "ipython3",
   "version": "3.9.1"
  }
 },
 "nbformat": 4,
 "nbformat_minor": 5
}
